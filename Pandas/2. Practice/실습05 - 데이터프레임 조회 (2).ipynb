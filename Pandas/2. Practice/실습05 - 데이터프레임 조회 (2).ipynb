{
 "cells": [
  {
   "cell_type": "markdown",
   "metadata": {
    "id": "BFhIXgdYoYGp"
   },
   "source": [
    "<center><img src='https://raw.githubusercontent.com/Jangrae/img/master/title.png' width=500/></center>"
   ]
  },
  {
   "cell_type": "markdown",
   "metadata": {
    "id": "d6jVPeiR2MK_"
   },
   "source": [
    "<center><img src='https://raw.githubusercontent.com/Jangrae/img/master/practice.png' width=300/></center>"
   ]
  },
  {
   "cell_type": "markdown",
   "metadata": {
    "id": "-sdzPN0Uwxi2"
   },
   "source": [
    "# [실습] 데이터프레임 조회 (2)"
   ]
  },
  {
   "cell_type": "markdown",
   "metadata": {
    "id": "CKp1QA1Sv4Kq"
   },
   "source": [
    "1) pandas 라이브러리를 pd 별칭을 주어 불러오세요."
   ]
  },
  {
   "cell_type": "code",
   "execution_count": null,
   "metadata": {
    "id": "oN9BR9E4LA8y"
   },
   "outputs": [],
   "source": [
    "# 라이브러리 불러오기\n",
    "import pandas as pd"
   ]
  },
  {
   "cell_type": "markdown",
   "metadata": {
    "id": "MSI7TDJqLOuu"
   },
   "source": [
    "2) 다음 경로의 파일을 읽어 graduate 데이터프레임을 만드세요.\n",
    "- 파일 경로: 'https://raw.githubusercontent.com/Jangrae/csv/master/Graduate_apply.csv'"
   ]
  },
  {
   "cell_type": "code",
   "execution_count": null,
   "metadata": {
    "id": "brN0YxzRLjzK"
   },
   "outputs": [],
   "source": [
    "# 데이터 읽어보기\n",
    "path = 'https://raw.githubusercontent.com/Jangrae/csv/master/Graduate_apply.csv'\n",
    "graduate = pd.read_csv(path)\n",
    "\n",
    "# 확인\n",
    "graduate.head()"
   ]
  },
  {
   "cell_type": "markdown",
   "metadata": {
    "id": "0FlziGWML113"
   },
   "source": [
    "3) 범주형 값을 갖는 rank 열에 어떤 값들이 몇 개씩 있는 지 확인하세요."
   ]
  },
  {
   "cell_type": "code",
   "execution_count": null,
   "metadata": {
    "id": "wo7NCADBwxne"
   },
   "outputs": [],
   "source": [
    "# rank 값 확인\n",
    "graduate['rank'].value_counts()"
   ]
  },
  {
   "cell_type": "markdown",
   "metadata": {
    "id": "El4HQDvGAaou"
   },
   "source": [
    "4) rank 열만 확인하세요."
   ]
  },
  {
   "cell_type": "code",
   "execution_count": null,
   "metadata": {
    "id": "L2MjrnWIAaow"
   },
   "outputs": [],
   "source": [
    "# rank 열\n",
    "graduate['rank']"
   ]
  },
  {
   "cell_type": "markdown",
   "metadata": {
    "id": "go6qFikMBVKu"
   },
   "source": [
    "5) gre, gpa 열만 확인하세요."
   ]
  },
  {
   "cell_type": "code",
   "execution_count": null,
   "metadata": {
    "id": "cIroixwCBVK0"
   },
   "outputs": [],
   "source": [
    "# gre, gpa 열\n",
    "graduate[['gre', 'gpa']]"
   ]
  },
  {
   "cell_type": "markdown",
   "metadata": {
    "id": "t83kUgfVBhBG"
   },
   "source": [
    "6) gre, gpa 열의 상위 10개 행만 확인하세요."
   ]
  },
  {
   "cell_type": "code",
   "execution_count": null,
   "metadata": {
    "id": "ARVKnVSOBhBN"
   },
   "outputs": [],
   "source": [
    "# gre, gpa 열\n",
    "graduate[['gre', 'gpa']].head(10)"
   ]
  },
  {
   "cell_type": "markdown",
   "metadata": {
    "id": "zxCJWKytWnUM"
   },
   "source": [
    "7) gre 평균을 gre_mean으로 선언하고 그 값을 확인하세요."
   ]
  },
  {
   "cell_type": "code",
   "execution_count": null,
   "metadata": {
    "id": "UZK4A7xtWnUN"
   },
   "outputs": [],
   "source": [
    "# gre 평균\n",
    "gre_mean = graduate['gre'].mean()\n",
    "\n",
    "# 확인\n",
    "gre_mean"
   ]
  },
  {
   "cell_type": "markdown",
   "metadata": {
    "id": "0Ayeres5CXBn"
   },
   "source": [
    "8) 다음 요구사항에 따라 구문을 하나의 코드셀에 순서대로 작성하고 확인하세요.\n",
    "\n",
    "- gre가 800 이상인 행을 g1 데이터프레임으로 선언하세요.\n",
    "- g1 데이터프레임의 gpa가 4.0 이상인 행을 g2 데이터프레임으로 선언하세요.\n",
    "- g2 데이터프레임 인덱스를 초기화하세요.(기존 인덱스는 제거)"
   ]
  },
  {
   "cell_type": "code",
   "execution_count": null,
   "metadata": {
    "id": "gxh0Mhv6CXBo"
   },
   "outputs": [],
   "source": [
    "# gre가 800 이상\n",
    "g1 = graduate.loc[graduate['gre'] >= 800]\n",
    "\n",
    "# gpa가 4.0 이상\n",
    "g2 = g1.loc[g1['gpa'] >= 4.0]\n",
    "\n",
    "# 인덱스 초기화\n",
    "g2.reset_index(drop=True, inplace=True)\n",
    "\n",
    "# 확인\n",
    "g2"
   ]
  },
  {
   "cell_type": "markdown",
   "metadata": {
    "id": "uRS1ADKhL_VS"
   },
   "source": [
    "9) graduate 데이터프레임 gre가 평균 이상이면서 rank가 4인 행을 g3 데이터프레임으로 선언하고 확인하세요."
   ]
  },
  {
   "cell_type": "code",
   "execution_count": null,
   "metadata": {
    "id": "U22tWnCrwxnp"
   },
   "outputs": [],
   "source": [
    "# gre가 gre 평균 이상, rank가 4\n",
    "gre_mean = graduate['gre'].mean()\n",
    "g3 = graduate.loc[(graduate['gre'] >= gre_mean) & (graduate['rank'] == 4)]\n",
    "\n",
    "# 확인\n",
    "g3"
   ]
  }
 ],
 "metadata": {
  "colab": {
   "provenance": []
  },
  "kernelspec": {
   "display_name": "Python 3 (ipykernel)",
   "language": "python",
   "name": "python3"
  },
  "language_info": {
   "codemirror_mode": {
    "name": "ipython",
    "version": 3
   },
   "file_extension": ".py",
   "mimetype": "text/x-python",
   "name": "python",
   "nbconvert_exporter": "python",
   "pygments_lexer": "ipython3",
   "version": "3.10.9"
  }
 },
 "nbformat": 4,
 "nbformat_minor": 4
}
