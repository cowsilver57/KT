{
 "cells": [
  {
   "cell_type": "markdown",
   "metadata": {
    "id": "BFhIXgdYoYGp"
   },
   "source": [
    "<center><img src='https://raw.githubusercontent.com/Jangrae/img/master/title.png' width=500/></center>"
   ]
  },
  {
   "cell_type": "markdown",
   "metadata": {
    "id": "d6jVPeiR2MK_"
   },
   "source": [
    "<center><img src='https://raw.githubusercontent.com/Jangrae/img/master/practice.png' width=300/></center>"
   ]
  },
  {
   "cell_type": "markdown",
   "metadata": {
    "id": "-sdzPN0Uwxi2"
   },
   "source": [
    "# [실습] 데이터프레임 조회 (1)"
   ]
  },
  {
   "cell_type": "markdown",
   "metadata": {
    "id": "CKp1QA1Sv4Kq"
   },
   "source": [
    "1) pandas 라이브러리를 pd 별칭을 주어 불러오세요."
   ]
  },
  {
   "cell_type": "code",
   "execution_count": null,
   "metadata": {
    "id": "oN9BR9E4LA8y"
   },
   "outputs": [],
   "source": [
    "# 라이브러리 불러오기\n",
    "import pandas as pd"
   ]
  },
  {
   "cell_type": "markdown",
   "metadata": {
    "id": "MSI7TDJqLOuu"
   },
   "source": [
    "2) 다음 경로의 파일을 읽어 tip 데이터프레임을 만드세요.\n",
    "- 파일 경로: 'https://raw.githubusercontent.com/Jangrae/csv/master/tips.csv'"
   ]
  },
  {
   "cell_type": "code",
   "execution_count": null,
   "metadata": {
    "id": "brN0YxzRLjzK"
   },
   "outputs": [],
   "source": [
    "# 데이터 읽어오기\n",
    "path = 'https://raw.githubusercontent.com/Jangrae/csv/master/tips.csv'\n",
    "tip = pd.read_csv(path)\n",
    "\n",
    "# 확인\n",
    "tip.head()"
   ]
  },
  {
   "cell_type": "markdown",
   "metadata": {
    "id": "0FlziGWML113"
   },
   "source": [
    "3) 범주형 값을 갖는 day 열에 어떤 값들이 몇 개씩 있는 지 확인하세요."
   ]
  },
  {
   "cell_type": "code",
   "execution_count": null,
   "metadata": {
    "id": "wo7NCADBwxne"
   },
   "outputs": [],
   "source": [
    "# day 값 확인\n",
    "tip['day'].value_counts()"
   ]
  },
  {
   "cell_type": "markdown",
   "metadata": {
    "id": "El4HQDvGAaou"
   },
   "source": [
    "4) total_bill 열만 확인하세요."
   ]
  },
  {
   "cell_type": "code",
   "execution_count": null,
   "metadata": {
    "id": "L2MjrnWIAaow"
   },
   "outputs": [],
   "source": [
    "# total_bill 열\n",
    "tip['total_bill']"
   ]
  },
  {
   "cell_type": "markdown",
   "metadata": {
    "id": "go6qFikMBVKu"
   },
   "source": [
    "5) tip, total_bill 열만 확인하세요."
   ]
  },
  {
   "cell_type": "code",
   "execution_count": null,
   "metadata": {
    "id": "cIroixwCBVK0"
   },
   "outputs": [],
   "source": [
    "# tip, total_bill 열\n",
    "tip[['tip', 'total_bill']]"
   ]
  },
  {
   "cell_type": "markdown",
   "metadata": {
    "id": "t83kUgfVBhBG"
   },
   "source": [
    "6) tip, total_bill 열의 상위 10개 행만 확인하세요."
   ]
  },
  {
   "cell_type": "code",
   "execution_count": null,
   "metadata": {
    "id": "ARVKnVSOBhBN"
   },
   "outputs": [],
   "source": [
    "# tip, total_bill 열\n",
    "tip[['tip', 'total_bill']].head(10)"
   ]
  },
  {
   "cell_type": "markdown",
   "metadata": {
    "id": "zxCJWKytWnUM"
   },
   "source": [
    "7) total_bill 평균을 total_mean으로 선언하고 그 값을 확인하세요."
   ]
  },
  {
   "cell_type": "code",
   "execution_count": null,
   "metadata": {
    "id": "UZK4A7xtWnUN"
   },
   "outputs": [],
   "source": [
    "# total_bill 평균\n",
    "total_mean = tip['total_bill'].mean()\n",
    "\n",
    "# 확인\n",
    "total_mean"
   ]
  },
  {
   "cell_type": "markdown",
   "metadata": {
    "id": "UeRADfebZuYY"
   },
   "source": [
    "8) 다음 요구사항에 따라 구문을 하나의 코드셀에 순서대로 작성하고 확인하세요.\n",
    "\n",
    "- tip 데이터프레임 total_bill이 45.0 이상이면서 tip이 6.0 이상인 행을 good 데이터프레임으로 선언하세요.\n",
    "- good 데이터프레임 인덱스를 초기화하세요.(단, 기존 인덱스는 제거)\n",
    "- good 데이터프레임을 확인하세요."
   ]
  },
  {
   "cell_type": "code",
   "execution_count": null,
   "metadata": {
    "id": "m5emU0bMDrT_"
   },
   "outputs": [],
   "source": [
    "# total_bill 45.0 이상, tip 6.0 이상\n",
    "good = tip.loc[(tip['total_bill'] >= 45.0) & (tip['tip'] >= 6.0)]\n",
    "\n",
    "# 인덱스 초기화\n",
    "good.reset_index(drop=True, inplace=True)\n",
    "\n",
    "# 확인\n",
    "good.head()"
   ]
  },
  {
   "cell_type": "markdown",
   "metadata": {
    "id": "uRS1ADKhL_VS"
   },
   "source": [
    "9) tip 데이터프레임 total_bill이 평균 이상인 행을 good2 데이터프레임으로 선언하고 확인하세요."
   ]
  },
  {
   "cell_type": "code",
   "execution_count": null,
   "metadata": {
    "id": "U22tWnCrwxnp"
   },
   "outputs": [],
   "source": [
    "# total_bill이 평균 이상\n",
    "total_mean = tip['total_bill'].mean()\n",
    "good2 = tip.loc[(tip['total_bill'] >= total_mean)]\n",
    "\n",
    "# 확인\n",
    "good2.head()"
   ]
  }
 ],
 "metadata": {
  "colab": {
   "provenance": []
  },
  "kernelspec": {
   "display_name": "Python 3 (ipykernel)",
   "language": "python",
   "name": "python3"
  },
  "language_info": {
   "codemirror_mode": {
    "name": "ipython",
    "version": 3
   },
   "file_extension": ".py",
   "mimetype": "text/x-python",
   "name": "python",
   "nbconvert_exporter": "python",
   "pygments_lexer": "ipython3",
   "version": "3.10.9"
  }
 },
 "nbformat": 4,
 "nbformat_minor": 4
}
