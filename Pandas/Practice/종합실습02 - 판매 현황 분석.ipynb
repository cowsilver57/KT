{
 "cells": [
  {
   "cell_type": "markdown",
   "metadata": {
    "id": "BFhIXgdYoYGp"
   },
   "source": [
    "<center><img src='https://raw.githubusercontent.com/Jangrae/img/master/title.png' width=500/></center>"
   ]
  },
  {
   "cell_type": "markdown",
   "metadata": {
    "id": "d6jVPeiR2MK_"
   },
   "source": [
    "<center><img src='https://raw.githubusercontent.com/Jangrae/img/master/practice3.png' width=300/></center>"
   ]
  },
  {
   "cell_type": "markdown",
   "metadata": {
    "id": "6_3Bd_AQLlql"
   },
   "source": [
    "<center>본 실습에서 요구하는 내용 외에도 다양한 내용을 스스로 추가하여  탐색하고 분석해 보기를 권고합니다.</center>"
   ]
  },
  {
   "cell_type": "markdown",
   "metadata": {
    "id": "Nkw-jfYoFBTc"
   },
   "source": [
    "# 종합실습 - 판매 현황 분석"
   ]
  },
  {
   "cell_type": "markdown",
   "metadata": {
    "id": "uaF8TEtb4T_h"
   },
   "source": [
    "<img src='https://raw.githubusercontent.com/Jangrae/img/master/retail.png' width=\"650\" align=\"left\">"
   ]
  },
  {
   "cell_type": "markdown",
   "metadata": {
    "id": "qb1iLyXwGlnw"
   },
   "source": [
    "# 1.환경 설정"
   ]
  },
  {
   "cell_type": "markdown",
   "metadata": {
    "id": "0uNXxebRGrd8"
   },
   "source": [
    "**1)라이브러리 불러오기**\n",
    "\n",
    "- 사용할 라이브러리를 불러오세오."
   ]
  },
  {
   "cell_type": "code",
   "execution_count": null,
   "metadata": {
    "id": "zFm_DPTaUdqQ"
   },
   "outputs": [],
   "source": [
    "# 라이브러리 불러오기\n",
    "import numpy as np\n",
    "import pandas as pd\n",
    "import matplotlib.pyplot as plt\n",
    "\n",
    "%config InlineBackend.figure_format = 'retina'"
   ]
  },
  {
   "cell_type": "markdown",
   "metadata": {
    "id": "d7GGSwUvCGIr"
   },
   "source": [
    "**2) 한글 설정**\n",
    "\n",
    "- Jupyter Notebook 시각화에 한글이 표시되게 설정합니다."
   ]
  },
  {
   "cell_type": "code",
   "execution_count": null,
   "metadata": {
    "id": "lyk2U1RZmRV9"
   },
   "outputs": [],
   "source": [
    "# 한글 폰트설정 #1\n",
    "plt.rcParams['font.family'] = 'Malgun Gothic'\n",
    "plt.rcParams['axes.unicode_minus'] = False"
   ]
  },
  {
   "cell_type": "code",
   "execution_count": null,
   "metadata": {
    "id": "-EBzMpsxvZOF"
   },
   "outputs": [],
   "source": [
    "# 한글 폰트설정 #2: 구글 코랩 포함\n",
    "#!pip install koreanize_matplotlib\n",
    "#import koreanize_matplotlib"
   ]
  },
  {
   "cell_type": "markdown",
   "metadata": {
    "id": "PcLUjkq0wxpF"
   },
   "source": [
    "**3) 데이터 읽어오기**\n",
    "\n",
    "- 다음 경로의 파일을 읽어와 각각의 데이터프레임을 만듭니다.\n",
    "- 데이터프레임 이름은 customers, sales로 합니다.\n",
    "- 파일 경로\n",
    "    - 'https://raw.githubusercontent.com/Jangrae/csv/master/customers.csv'    \n",
    "    - 'https://raw.githubusercontent.com/Jangrae/csv/master/sales.csv'"
   ]
  },
  {
   "cell_type": "code",
   "execution_count": null,
   "metadata": {
    "id": "91c9vKQ0E1A4"
   },
   "outputs": [],
   "source": [
    "# customers 데이터 읽어오기\n",
    "path = 'https://raw.githubusercontent.com/Jangrae/csv/master/customers.csv'\n",
    "customers = pd.read_csv(path)\n",
    "\n",
    "# 확인\n",
    "customers.head()"
   ]
  },
  {
   "cell_type": "code",
   "execution_count": null,
   "metadata": {
    "id": "OPfgGedaEqnw"
   },
   "outputs": [],
   "source": [
    "# sales 데이터 읽어오기\n",
    "path = 'https://raw.githubusercontent.com/Jangrae/csv/master/sales.csv'\n",
    "sales = pd.read_csv(path)\n",
    "\n",
    "# 확인\n",
    "sales.head()"
   ]
  },
  {
   "cell_type": "markdown",
   "metadata": {
    "id": "H4KWZGI8HBIA",
    "tags": []
   },
   "source": [
    "# 2.데이터 전처리 #1"
   ]
  },
  {
   "cell_type": "markdown",
   "metadata": {
    "id": "RRNGL3Cihx_L"
   },
   "source": [
    "**1) 고객별 집계**\n",
    "\n",
    "- sales 데이터프레임에서 고객(CustomerID)별 주문 수량(Qty) 합, 금액(Amt) 합을 집계하여 cust_sales 데이터프레임을 선언합니다."
   ]
  },
  {
   "cell_type": "code",
   "execution_count": null,
   "metadata": {
    "id": "yhrEAxGPd5Ux"
   },
   "outputs": [],
   "source": [
    "# 고객별 집계\n",
    "cust_sales = sales.groupby(by='CustomerID', as_index=False)[['Qty', 'Amt']].sum()\n",
    "\n",
    "# 확인\n",
    "cust_sales.head()"
   ]
  },
  {
   "cell_type": "markdown",
   "metadata": {
    "id": "2R3-BHChh_IE"
   },
   "source": [
    "**2) 데이터 병합**\n",
    "\n",
    "- customers, cust_sales 데이터프레임을 **CustomerID** 열을 기준으로 **outer** 방식으로 **병합(=조인)** 하여 **cst** 데이터프레임으로 선언합니다.\n",
    "\n",
    "- 이제부터 모든 작업은 cst 데이터프레임을 대상으로 합니다."
   ]
  },
  {
   "cell_type": "code",
   "execution_count": null,
   "metadata": {
    "id": "HhmZlFtpeK3j"
   },
   "outputs": [],
   "source": [
    "# 병합\n",
    "cst = pd.merge(customers, cust_sales, on='CustomerID', how='outer')\n",
    "\n",
    "# 확인\n",
    "cst.head()"
   ]
  },
  {
   "cell_type": "markdown",
   "metadata": {
    "id": "UuU0PxcEiaGc"
   },
   "source": [
    "**3) 결측치 확인**\n",
    "\n",
    "- 결측치가 있는지 확인합니다."
   ]
  },
  {
   "cell_type": "code",
   "execution_count": null,
   "metadata": {
    "id": "h2MyOhbBeeRR"
   },
   "outputs": [],
   "source": [
    "# 결측치 확인\n",
    "cst.isna().sum()"
   ]
  },
  {
   "cell_type": "markdown",
   "metadata": {
    "id": "jAgB0JqDiiLc"
   },
   "source": [
    "**4) 결측치 제거**\n",
    "\n",
    "- 결측치가 있는 행은 제거합니다."
   ]
  },
  {
   "cell_type": "code",
   "execution_count": null,
   "metadata": {
    "id": "G6mt_5Szei3E"
   },
   "outputs": [],
   "source": [
    "# 결측치 제거\n",
    "cst.dropna(inplace=True)\n",
    "\n",
    "# 확인\n",
    "cst.isna().sum()"
   ]
  },
  {
   "cell_type": "markdown",
   "metadata": {
    "id": "dcRv4isYipTG"
   },
   "source": [
    "**5) 열 추가: RegisterYear, RegisterMonth**\n",
    "\n",
    "- 다음 구문을 실행해서 RegisterYear, RegisterMonth 열을 추가합니다."
   ]
  },
  {
   "cell_type": "code",
   "execution_count": null,
   "metadata": {
    "id": "vFep0Ta_fSyc"
   },
   "outputs": [],
   "source": [
    "# RegisterYear, RegisterMonth 열 추가\n",
    "cst['RegisterDate'] = pd.to_datetime(cst['RegisterDate'])\n",
    "cst['RegisterYear'] = cst['RegisterDate'].dt.year\n",
    "cst['RegisterMonth'] = cst['RegisterDate'].dt.month\n",
    "\n",
    "# 확인\n",
    "cst.head()"
   ]
  },
  {
   "cell_type": "markdown",
   "metadata": {
    "id": "eDKTtoMYi7R2"
   },
   "source": [
    "**6) 열 추가: Age**\n",
    "\n",
    "- 'Age = 2017 - 출생연도(BirthYear)'  공식을 이용해 Age 열을 추가합니다."
   ]
  },
  {
   "cell_type": "code",
   "execution_count": null,
   "metadata": {
    "id": "fNV4RvK5fkxN"
   },
   "outputs": [],
   "source": [
    "# Age 추가\n",
    "cst['Age'] = 2017 - cst['BirthYear']\n",
    "\n",
    "# 확인\n",
    "cst.head()"
   ]
  },
  {
   "cell_type": "markdown",
   "metadata": {
    "id": "HzuLc9uAkAU6"
   },
   "source": [
    "**7) 열 추가: Age2**\n",
    "\n",
    "- 'Age2 = Age // 10 * 10' 공식을 이용해 Age2 열을 추가합니다."
   ]
  },
  {
   "cell_type": "code",
   "execution_count": null,
   "metadata": {
    "id": "P-SV-R83kAU7"
   },
   "outputs": [],
   "source": [
    "# Age2 추가\n",
    "cst['Age2'] = cst['Age'] // 10 * 10\n",
    "\n",
    "# 확인\n",
    "cst.head()"
   ]
  },
  {
   "cell_type": "markdown",
   "metadata": {
    "id": "eixfGALUjGAB"
   },
   "source": [
    "**8) 열 추가: Level**\n",
    "\n",
    "- 다음 Amt 열의 값 기준에 따라 등급을 갖는 Level 열을 추가합니다.\n",
    "    * ~ 30,000: Family\n",
    "    * ~ 100,000: Bronze\n",
    "    * ~ 300,000: Silver\n",
    "    * ~ 600,000: Gold\n",
    "    * 600,000 ~ : Platinum"
   ]
  },
  {
   "cell_type": "code",
   "execution_count": null,
   "metadata": {
    "id": "AIvm9DQfgR3_"
   },
   "outputs": [],
   "source": [
    "# Level 열 추가\n",
    "bin = [-np.inf, 30000, 100000, 300000, 600000, np.inf]\n",
    "label = ['Family', 'Bronze', 'Silver', 'Gold', 'Platinum']\n",
    "cst['Level'] = pd.cut(cst['Amt'], bins=bin, labels=label)\n",
    "\n",
    "# 확인\n",
    "cst.head()"
   ]
  },
  {
   "cell_type": "markdown",
   "metadata": {
    "id": "BAsaHKN0ja8y"
   },
   "source": [
    "**9) 불필요한 열 제거**\n",
    "\n",
    "- RegisterDate, Address, BirthYear, Addr2 열을 제거합니다."
   ]
  },
  {
   "cell_type": "code",
   "execution_count": null,
   "metadata": {
    "id": "RCfrsDNLfkox"
   },
   "outputs": [],
   "source": [
    "# 불필요한 열 제거\n",
    "cols = ['RegisterDate', 'Address', 'BirthYear', 'Addr2']\n",
    "cst.drop(cols, axis=1, inplace=True)\n",
    "\n",
    "# 확인\n",
    "cst.head()"
   ]
  },
  {
   "cell_type": "markdown",
   "metadata": {
    "id": "zik6zjCkjn_1"
   },
   "source": [
    "# 3.데이터 집계"
   ]
  },
  {
   "cell_type": "markdown",
   "metadata": {
    "id": "Dh_YZijKl3K0"
   },
   "source": [
    "**1) 지역별 고객 수**\n",
    "\n",
    "- 지역(Addr1)별 고객(CustomerID) 수를 집계하여 tmp 데이터프레임으로 선언합니다.\n",
    "- tmp 데이터프레임 열 이름을 '지역', '고객수'로 변경합니다.\n",
    "- tmp 데이터프레임을 고객수를 기준으로 내림차순 정렬합니다.\n",
    "- tmp 데이터프레임의 상위 5개 행만을 추출해 tmp_5 데이터프레임으로 선언합니다."
   ]
  },
  {
   "cell_type": "code",
   "execution_count": null,
   "metadata": {
    "id": "8kGU-6hTfkcd"
   },
   "outputs": [],
   "source": [
    "# 지역별 고객 수\n",
    "tmp = cst.groupby(by='Addr1', as_index=False)['CustomerID'].count()\n",
    "tmp.columns = ['지역', '고객수']\n",
    "tmp.sort_values(by='고객수', ascending=False, inplace=True)\n",
    "tmp_5 = tmp.head(5)\n",
    "\n",
    "# 확인\n",
    "tmp"
   ]
  },
  {
   "cell_type": "markdown",
   "metadata": {
    "id": "hH6PJX37mPzi"
   },
   "source": [
    "- tmp_5 데이터프레임을 막대 그래프로 시각화 합니다."
   ]
  },
  {
   "cell_type": "code",
   "execution_count": null,
   "metadata": {
    "id": "owW2lWdLk5Sj"
   },
   "outputs": [],
   "source": [
    "# 지역별 고객 수 TOP 5 시각화\n",
    "plt.bar(tmp_5['지역'], tmp_5['고객수'])\n",
    "plt.xlabel('지역')\n",
    "plt.ylabel('고객수')\n",
    "plt.show()"
   ]
  },
  {
   "cell_type": "markdown",
   "metadata": {
    "id": "TB8D49RRl9o-"
   },
   "source": [
    "**2) 연령대별 고객 수**\n",
    "\n",
    "- 연령대(Age2)별 고객 수를 집계하여 tmp 데이터프레임으로 선언합니다.\n",
    "- tmp 데이터프레임 열 이름을 '연령대', '고객수'로 변경합니다.\n",
    "- tmp 데이터프레임 연령대 열의 데이터 형식을 문자열로 변환합니다."
   ]
  },
  {
   "cell_type": "code",
   "execution_count": null,
   "metadata": {
    "id": "SYVsLxh6KguC"
   },
   "outputs": [],
   "source": [
    "# 연령대별 고객 수\n",
    "tmp = cst.groupby(by='Age2', as_index=False)['CustomerID'].count()\n",
    "tmp.columns = ['연령대', '고객수']\n",
    "tmp['연령대'] = tmp['연령대'].astype(str)\n",
    "\n",
    "# 확인\n",
    "tmp"
   ]
  },
  {
   "cell_type": "markdown",
   "metadata": {
    "id": "mKjwzW-_Llqp"
   },
   "source": [
    "- tmp 데이터프레임을 막대 그래프로 시각화 합니다."
   ]
  },
  {
   "cell_type": "code",
   "execution_count": null,
   "metadata": {
    "id": "0yaOzuLfLlqp"
   },
   "outputs": [],
   "source": [
    "# 연령대별 고객 수 시각화\n",
    "plt.bar(tmp['연령대'], tmp['고객수'])\n",
    "plt.xlabel('연령대')\n",
    "plt.ylabel('고객수')\n",
    "plt.show()"
   ]
  },
  {
   "cell_type": "markdown",
   "metadata": {
    "id": "Debfva0rmE7j"
   },
   "source": [
    "**3) 등급별 판매 금액**\n",
    "\n",
    "- 등급(Level)별 판매 금액(Amt)을 집계하여 tmp 데이터프레임으로 선언합니다.\n",
    "- tmp 데이터프레임 열 이름을 '등급', '합계금액'으로 변경합니다.\n",
    "- 합계금액은 10,000 단위로 변경합니다."
   ]
  },
  {
   "cell_type": "code",
   "execution_count": null,
   "metadata": {
    "id": "l4fYSwVlcGTR"
   },
   "outputs": [],
   "source": [
    "# 등급별 판매 금액\n",
    "tmp = cst.groupby(by='Level', as_index=False)[['Amt']].sum()\n",
    "tmp.columns = ['등급', '합계금액']\n",
    "tmp['합계금액'] = tmp['합계금액'] / 10000\n",
    "\n",
    "# 확인\n",
    "tmp"
   ]
  },
  {
   "cell_type": "markdown",
   "metadata": {
    "id": "tczkapRTLlqq"
   },
   "source": [
    "- tmp 데이터프레임을 막대 그래프로 시각화 합니다."
   ]
  },
  {
   "cell_type": "code",
   "execution_count": null,
   "metadata": {
    "id": "zX9hAT0yLlqq"
   },
   "outputs": [],
   "source": [
    "# 등급별 판매 금액 시각화\n",
    "plt.bar(tmp['등급'], tmp['합계금액'])\n",
    "plt.xlabel('등급')\n",
    "plt.ylabel('합계금액(천)')\n",
    "plt.show()"
   ]
  },
  {
   "cell_type": "markdown",
   "metadata": {
    "id": "mFdUUmKSl1DJ"
   },
   "source": [
    "# 4.전처리 #2"
   ]
  },
  {
   "cell_type": "markdown",
   "metadata": {
    "id": "_o9aNnX7nKFq"
   },
   "source": [
    "**1) 열 제거**\n",
    "\n",
    "- Addr1, RegisterYear, RegisterMonth, Age 열을 제거합니다."
   ]
  },
  {
   "cell_type": "code",
   "execution_count": null,
   "metadata": {
    "id": "AhG5pbgvm5ZU"
   },
   "outputs": [],
   "source": [
    "# 열 제거\n",
    "cst.drop(['Addr1', 'RegisterYear', 'RegisterMonth', 'Age'], axis=1, inplace=True)\n",
    "\n",
    "# 확인\n",
    "cst.head()"
   ]
  },
  {
   "cell_type": "markdown",
   "metadata": {
    "id": "fUV1jR5ip61A"
   },
   "source": [
    "**2) 열 이름 변경**\n",
    "\n",
    "- Age2 열 이름을 Age로 변경합니다."
   ]
  },
  {
   "cell_type": "code",
   "execution_count": null,
   "metadata": {
    "id": "8QRESdsip61A"
   },
   "outputs": [],
   "source": [
    "# 열 이름 변경: Age2 --> Age\n",
    "cst.rename(columns={'Age2': 'Age'}, inplace=True)\n",
    "\n",
    "# 확인\n",
    "cst.head()"
   ]
  },
  {
   "cell_type": "markdown",
   "metadata": {
    "id": "rGd9Oq_WnQbM"
   },
   "source": [
    "**3) 가변수화**\n",
    "\n",
    "- Gender, Age, Level 열을 가변수화 합니다."
   ]
  },
  {
   "cell_type": "code",
   "execution_count": null,
   "metadata": {
    "id": "46-cjnCanaAG"
   },
   "outputs": [],
   "source": [
    "# 가변수화\n",
    "cst = pd.get_dummies(cst, columns=['Gender', 'Age', 'Level'], drop_first=True)\n",
    "\n",
    "# 확인\n",
    "cst.head()"
   ]
  }
 ],
 "metadata": {
  "colab": {
   "provenance": []
  },
  "kernelspec": {
   "display_name": "Python 3 (ipykernel)",
   "language": "python",
   "name": "python3"
  },
  "language_info": {
   "codemirror_mode": {
    "name": "ipython",
    "version": 3
   },
   "file_extension": ".py",
   "mimetype": "text/x-python",
   "name": "python",
   "nbconvert_exporter": "python",
   "pygments_lexer": "ipython3",
   "version": "3.11.5"
  }
 },
 "nbformat": 4,
 "nbformat_minor": 4
}
