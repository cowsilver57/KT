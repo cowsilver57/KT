{
  "cells": [
    {
      "cell_type": "markdown",
      "metadata": {
        "id": "NbI_RoQ9AP5r"
      },
      "source": [
        "#**스마트폰 센서 데이터 기반 모션 분류**\n",
        "# 단계2 : 기본 모델링\n"
      ]
    },
    {
      "cell_type": "markdown",
      "metadata": {
        "id": "D67PlTu4JGAY"
      },
      "source": [
        "## 0.미션"
      ]
    },
    {
      "cell_type": "markdown",
      "metadata": {
        "id": "wc1FlP4E09oQ"
      },
      "source": [
        "* 데이터 전처리\n",
        "    * 가변수화, 데이터 분할, NaN 확인 및 조치, 스케일링 등 필요한 전처리 수행\n",
        "* 다양한 알고리즘으로 분류 모델 생성\n",
        "    * 최소 4개 이상의 알고리즘을 적용하여 모델링 수행\n",
        "    * 성능 비교\n",
        "    * 각 모델의 성능을 저장하는 별도 데이터 프레임을 만들고 비교\n",
        "* 옵션 : 다음 사항은 선택사항입니다. 시간이 허용하는 범위 내에서 수행하세요.\n",
        "    * 상위 N개 변수를 선정하여 모델링 및 성능 비교\n",
        "        * 모델링에 항상 모든 변수가 필요한 것은 아닙니다.\n",
        "        * 변수 중요도 상위 N개를 선정하여 모델링하고 타 모델과 성능을 비교하세요.\n",
        "        * 상위 N개를 선택하는 방법은, 변수를 하나씩 늘려가며 모델링 및 성능 검증을 수행하여 적절한 지점을 찾는 것입니다.\n",
        "        * 성능 가이드\n",
        "            * Accuracy : 0.900~0.968"
      ]
    },
    {
      "cell_type": "markdown",
      "metadata": {
        "id": "NCptKiLOAn7l"
      },
      "source": [
        "## 1.환경설정"
      ]
    },
    {
      "cell_type": "markdown",
      "metadata": {
        "id": "yfvvK98cpklr"
      },
      "source": [
        "* 세부 요구사항\n",
        "    - 경로 설정 : 다음의 두가지 방법 중 하나를 선택하여 폴더를 준비하고 데이터를 로딩하시오.\n",
        "        * 1) 로컬 수행(Ananconda)\n",
        "            * 제공된 압축파일을 다운받아 압축을 풀고\n",
        "            * anaconda의 root directory(보통 C:/Users/< ID > 에 project 폴더를 만들고, 복사해 넣습니다.\n",
        "        * 2) 구글콜랩\n",
        "            * 구글 드라이브 바로 밑에 project 폴더를 만들고,\n",
        "            * 데이터 파일을 복사해 넣습니다.\n",
        "    \n",
        "    - 기본적으로 필요한 라이브러리를 import 하도록 코드가 작성되어 있습니다.\n",
        "        * 필요하다고 판단되는 라이브러리를 추가하세요.\n"
      ]
    },
    {
      "cell_type": "markdown",
      "metadata": {
        "id": "6qsy44YpolGu"
      },
      "source": [
        "### (1) 경로 설정"
      ]
    },
    {
      "cell_type": "markdown",
      "metadata": {
        "id": "gklxNfgNpkls"
      },
      "source": [
        "#### 1) 로컬 수행(Anaconda)\n",
        "* project 폴더에 필요한 파일들을 넣고, 본 파일을 열었다면, 별도 경로 지정이 필요하지 않습니다."
      ]
    },
    {
      "cell_type": "code",
      "execution_count": null,
      "metadata": {
        "id": "PNI6X2yxpkls"
      },
      "outputs": [],
      "source": [
        "path = 'C:/Users/User/Desktop/'"
      ]
    },
    {
      "cell_type": "markdown",
      "metadata": {
        "id": "7rWT4biQpkls"
      },
      "source": [
        "#### 2) 구글 콜랩 수행"
      ]
    },
    {
      "cell_type": "markdown",
      "metadata": {
        "id": "3OpMHqwdpkls"
      },
      "source": [
        "* 구글 드라이브 연결"
      ]
    },
    {
      "cell_type": "code",
      "execution_count": null,
      "metadata": {
        "id": "CLasRk8Spklt"
      },
      "outputs": [],
      "source": [
        "# from google.colab import drive\n",
        "# drive.mount('/content/drive')"
      ]
    },
    {
      "cell_type": "code",
      "execution_count": null,
      "metadata": {
        "id": "CAVyyXi9pklt"
      },
      "outputs": [],
      "source": [
        "# path = '/content/drive/MyDrive/project/'"
      ]
    },
    {
      "cell_type": "markdown",
      "metadata": {
        "id": "KnzVh2LmkLDU"
      },
      "source": [
        "### (2) 라이브러리 불러오기"
      ]
    },
    {
      "cell_type": "markdown",
      "metadata": {
        "id": "yZZpUzXun1mw"
      },
      "source": [
        "#### 1) 라이브러리 로딩"
      ]
    },
    {
      "cell_type": "code",
      "execution_count": 1,
      "metadata": {
        "id": "3rsQerEaELwI",
        "tags": []
      },
      "outputs": [],
      "source": [
        "import pandas as pd\n",
        "import numpy as np\n",
        "import matplotlib.pyplot as plt\n",
        "import seaborn as sns\n",
        "\n",
        "# 필요하다고 판단되는 라이브러리를 추가하세요.\n",
        "import warnings\n",
        "warnings.filterwarnings('ignore')"
      ]
    },
    {
      "cell_type": "code",
      "execution_count": 3,
      "metadata": {
        "tags": [],
        "colab": {
          "base_uri": "https://localhost:8080/",
          "height": 423
        },
        "id": "9i2wqzxnEXuM",
        "outputId": "cbf8e69a-909b-4a6d-ca09-05e23b85b444"
      },
      "outputs": [
        {
          "output_type": "execute_result",
          "data": {
            "text/plain": [
              "                            feature_names  fi_dynamic  fi_standing  \\\n",
              "0                       tBodyAcc-mean()-X    0.000018     0.000223   \n",
              "1                       tBodyAcc-mean()-Y    0.000009     0.000363   \n",
              "2                       tBodyAcc-mean()-Z    0.000000     0.000263   \n",
              "3                        tBodyAcc-std()-X    0.000038     0.006221   \n",
              "4                        tBodyAcc-std()-Y    0.000000     0.001981   \n",
              "..                                    ...         ...          ...   \n",
              "556      angle(tBodyGyroMean,gravityMean)    0.000000     0.000689   \n",
              "557  angle(tBodyGyroJerkMean,gravityMean)    0.000000     0.002007   \n",
              "558                  angle(X,gravityMean)    0.000219     0.031465   \n",
              "559                  angle(Y,gravityMean)    0.000028     0.056257   \n",
              "560                  angle(Z,gravityMean)    0.000100     0.022299   \n",
              "\n",
              "     fi_sitting  fi_laying  fi_walking  fi_walkingup  fi_walkingdown  \n",
              "0      0.000296   0.000029    0.000106      0.000287        0.000117  \n",
              "1      0.000567   0.000145    0.000198      0.000310        0.000469  \n",
              "2      0.000413   0.000149    0.000185      0.000328        0.000098  \n",
              "3      0.000707   0.000178    0.011663      0.006478        0.029259  \n",
              "4      0.000216   0.000384    0.000322      0.000418        0.000923  \n",
              "..          ...        ...         ...           ...             ...  \n",
              "556    0.001376   0.000000    0.000375      0.000367        0.000916  \n",
              "557    0.001857   0.000000    0.000137      0.000139        0.000315  \n",
              "558    0.030515   0.116279    0.001103      0.013487        0.001576  \n",
              "559    0.023097   0.028595    0.001168      0.016196        0.003707  \n",
              "560    0.012251   0.014832    0.000579      0.002529        0.001066  \n",
              "\n",
              "[561 rows x 8 columns]"
            ],
            "text/html": [
              "\n",
              "  <div id=\"df-1d872e0b-24cd-4a71-bbce-b5d567c1e3de\" class=\"colab-df-container\">\n",
              "    <div>\n",
              "<style scoped>\n",
              "    .dataframe tbody tr th:only-of-type {\n",
              "        vertical-align: middle;\n",
              "    }\n",
              "\n",
              "    .dataframe tbody tr th {\n",
              "        vertical-align: top;\n",
              "    }\n",
              "\n",
              "    .dataframe thead th {\n",
              "        text-align: right;\n",
              "    }\n",
              "</style>\n",
              "<table border=\"1\" class=\"dataframe\">\n",
              "  <thead>\n",
              "    <tr style=\"text-align: right;\">\n",
              "      <th></th>\n",
              "      <th>feature_names</th>\n",
              "      <th>fi_dynamic</th>\n",
              "      <th>fi_standing</th>\n",
              "      <th>fi_sitting</th>\n",
              "      <th>fi_laying</th>\n",
              "      <th>fi_walking</th>\n",
              "      <th>fi_walkingup</th>\n",
              "      <th>fi_walkingdown</th>\n",
              "    </tr>\n",
              "  </thead>\n",
              "  <tbody>\n",
              "    <tr>\n",
              "      <th>0</th>\n",
              "      <td>tBodyAcc-mean()-X</td>\n",
              "      <td>0.000018</td>\n",
              "      <td>0.000223</td>\n",
              "      <td>0.000296</td>\n",
              "      <td>0.000029</td>\n",
              "      <td>0.000106</td>\n",
              "      <td>0.000287</td>\n",
              "      <td>0.000117</td>\n",
              "    </tr>\n",
              "    <tr>\n",
              "      <th>1</th>\n",
              "      <td>tBodyAcc-mean()-Y</td>\n",
              "      <td>0.000009</td>\n",
              "      <td>0.000363</td>\n",
              "      <td>0.000567</td>\n",
              "      <td>0.000145</td>\n",
              "      <td>0.000198</td>\n",
              "      <td>0.000310</td>\n",
              "      <td>0.000469</td>\n",
              "    </tr>\n",
              "    <tr>\n",
              "      <th>2</th>\n",
              "      <td>tBodyAcc-mean()-Z</td>\n",
              "      <td>0.000000</td>\n",
              "      <td>0.000263</td>\n",
              "      <td>0.000413</td>\n",
              "      <td>0.000149</td>\n",
              "      <td>0.000185</td>\n",
              "      <td>0.000328</td>\n",
              "      <td>0.000098</td>\n",
              "    </tr>\n",
              "    <tr>\n",
              "      <th>3</th>\n",
              "      <td>tBodyAcc-std()-X</td>\n",
              "      <td>0.000038</td>\n",
              "      <td>0.006221</td>\n",
              "      <td>0.000707</td>\n",
              "      <td>0.000178</td>\n",
              "      <td>0.011663</td>\n",
              "      <td>0.006478</td>\n",
              "      <td>0.029259</td>\n",
              "    </tr>\n",
              "    <tr>\n",
              "      <th>4</th>\n",
              "      <td>tBodyAcc-std()-Y</td>\n",
              "      <td>0.000000</td>\n",
              "      <td>0.001981</td>\n",
              "      <td>0.000216</td>\n",
              "      <td>0.000384</td>\n",
              "      <td>0.000322</td>\n",
              "      <td>0.000418</td>\n",
              "      <td>0.000923</td>\n",
              "    </tr>\n",
              "    <tr>\n",
              "      <th>...</th>\n",
              "      <td>...</td>\n",
              "      <td>...</td>\n",
              "      <td>...</td>\n",
              "      <td>...</td>\n",
              "      <td>...</td>\n",
              "      <td>...</td>\n",
              "      <td>...</td>\n",
              "      <td>...</td>\n",
              "    </tr>\n",
              "    <tr>\n",
              "      <th>556</th>\n",
              "      <td>angle(tBodyGyroMean,gravityMean)</td>\n",
              "      <td>0.000000</td>\n",
              "      <td>0.000689</td>\n",
              "      <td>0.001376</td>\n",
              "      <td>0.000000</td>\n",
              "      <td>0.000375</td>\n",
              "      <td>0.000367</td>\n",
              "      <td>0.000916</td>\n",
              "    </tr>\n",
              "    <tr>\n",
              "      <th>557</th>\n",
              "      <td>angle(tBodyGyroJerkMean,gravityMean)</td>\n",
              "      <td>0.000000</td>\n",
              "      <td>0.002007</td>\n",
              "      <td>0.001857</td>\n",
              "      <td>0.000000</td>\n",
              "      <td>0.000137</td>\n",
              "      <td>0.000139</td>\n",
              "      <td>0.000315</td>\n",
              "    </tr>\n",
              "    <tr>\n",
              "      <th>558</th>\n",
              "      <td>angle(X,gravityMean)</td>\n",
              "      <td>0.000219</td>\n",
              "      <td>0.031465</td>\n",
              "      <td>0.030515</td>\n",
              "      <td>0.116279</td>\n",
              "      <td>0.001103</td>\n",
              "      <td>0.013487</td>\n",
              "      <td>0.001576</td>\n",
              "    </tr>\n",
              "    <tr>\n",
              "      <th>559</th>\n",
              "      <td>angle(Y,gravityMean)</td>\n",
              "      <td>0.000028</td>\n",
              "      <td>0.056257</td>\n",
              "      <td>0.023097</td>\n",
              "      <td>0.028595</td>\n",
              "      <td>0.001168</td>\n",
              "      <td>0.016196</td>\n",
              "      <td>0.003707</td>\n",
              "    </tr>\n",
              "    <tr>\n",
              "      <th>560</th>\n",
              "      <td>angle(Z,gravityMean)</td>\n",
              "      <td>0.000100</td>\n",
              "      <td>0.022299</td>\n",
              "      <td>0.012251</td>\n",
              "      <td>0.014832</td>\n",
              "      <td>0.000579</td>\n",
              "      <td>0.002529</td>\n",
              "      <td>0.001066</td>\n",
              "    </tr>\n",
              "  </tbody>\n",
              "</table>\n",
              "<p>561 rows × 8 columns</p>\n",
              "</div>\n",
              "    <div class=\"colab-df-buttons\">\n",
              "\n",
              "  <div class=\"colab-df-container\">\n",
              "    <button class=\"colab-df-convert\" onclick=\"convertToInteractive('df-1d872e0b-24cd-4a71-bbce-b5d567c1e3de')\"\n",
              "            title=\"Convert this dataframe to an interactive table.\"\n",
              "            style=\"display:none;\">\n",
              "\n",
              "  <svg xmlns=\"http://www.w3.org/2000/svg\" height=\"24px\" viewBox=\"0 -960 960 960\">\n",
              "    <path d=\"M120-120v-720h720v720H120Zm60-500h600v-160H180v160Zm220 220h160v-160H400v160Zm0 220h160v-160H400v160ZM180-400h160v-160H180v160Zm440 0h160v-160H620v160ZM180-180h160v-160H180v160Zm440 0h160v-160H620v160Z\"/>\n",
              "  </svg>\n",
              "    </button>\n",
              "\n",
              "  <style>\n",
              "    .colab-df-container {\n",
              "      display:flex;\n",
              "      gap: 12px;\n",
              "    }\n",
              "\n",
              "    .colab-df-convert {\n",
              "      background-color: #E8F0FE;\n",
              "      border: none;\n",
              "      border-radius: 50%;\n",
              "      cursor: pointer;\n",
              "      display: none;\n",
              "      fill: #1967D2;\n",
              "      height: 32px;\n",
              "      padding: 0 0 0 0;\n",
              "      width: 32px;\n",
              "    }\n",
              "\n",
              "    .colab-df-convert:hover {\n",
              "      background-color: #E2EBFA;\n",
              "      box-shadow: 0px 1px 2px rgba(60, 64, 67, 0.3), 0px 1px 3px 1px rgba(60, 64, 67, 0.15);\n",
              "      fill: #174EA6;\n",
              "    }\n",
              "\n",
              "    .colab-df-buttons div {\n",
              "      margin-bottom: 4px;\n",
              "    }\n",
              "\n",
              "    [theme=dark] .colab-df-convert {\n",
              "      background-color: #3B4455;\n",
              "      fill: #D2E3FC;\n",
              "    }\n",
              "\n",
              "    [theme=dark] .colab-df-convert:hover {\n",