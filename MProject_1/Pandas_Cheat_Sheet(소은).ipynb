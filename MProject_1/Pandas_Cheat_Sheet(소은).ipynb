{
 "cells": [
  {
   "cell_type": "markdown",
   "id": "62c42295",
   "metadata": {},
   "source": [
    "# Pandas Cheat_Sheet"
   ]
  },
  {
   "cell_type": "markdown",
   "id": "3b69baca",
   "metadata": {},
   "source": [
    "## groupby\n",
    "데이터를 그룹화하고 그룹화된 데이터에 대한 연산을 수행하는 기능"
   ]
  },
  {
   "cell_type": "markdown",
   "id": "300299c8",
   "metadata": {},
   "source": [
    "[시리즈 형태]"
   ]
  },
  {
   "cell_type": "code",
   "execution_count": null,
   "id": "7d81bcbe",
   "metadata": {},
   "outputs": [],
   "source": [
    "#col_1 별 col_2 합계\n",
    "df.groupby('col_1')['col_2'].sum()"
   ]
  },
  {
   "cell_type": "markdown",
   "id": "393b15c1",
   "metadata": {},
   "source": [
    "[데이터프레임 형태]"
   ]
  },
  {
   "cell_type": "code",
   "execution_count": null,
   "id": "01f67fa9",
   "metadata": {},
   "outputs": [],
   "source": [
    "#col_1 별 col_2 합계\n",
    "df.groupby('col_1')[['col_2']].sum()"
   ]
  },
  {
   "cell_type": "markdown",
   "id": "a73fd820",
   "metadata": {},
   "source": [
    "[as_index=True]\n",
    "* as_index=True로 설정(기본값)하면 집계 기준이 되는 열이 인덱스 열로 설정"
   ]
  },
  {
   "cell_type": "code",
   "execution_count": null,
   "id": "172b0b55",
   "metadata": {},
   "outputs": [],
   "source": [
    "#col_1 별 col_2 합계\n",
    "df.groupby('col_1', as_index=True)['col_2'].sum()"
   ]
  },
  {
   "cell_type": "markdown",
   "id": "bea10470",
   "metadata": {},
   "source": [
    "[as_index=False]\n",
    "* as_index=False로 설정하면 행 번호를 기반으로 한 정수 값이 인덱스로 설정"
   ]
  },
  {
   "cell_type": "code",
   "execution_count": null,
   "id": "758477bd",
   "metadata": {},
   "outputs": [],
   "source": [
    "#col_1 별 col_2 합계\n",
    "df.groupby('col_1', as_index=False)['col_2'].sum()"
   ]
  },
  {
   "cell_type": "markdown",
   "id": "039a90df",
   "metadata": {},
   "source": [
    "[여러 열 집계]"
   ]
  },
  {
   "cell_type": "code",
   "execution_count": null,
   "id": "46db9531",
   "metadata": {},
   "outputs": [],
   "source": [
    "# col_1 별 col_2, col_3 합계\n",
    "df.groupby('col_1', as_index=False)[['col_2', 'col_3']].sum()\n",
    "\n",
    "# col_1, col_2 별 col_3 합계\n",
    "df.groupby(['col_1', 'col_2'], as_index=False)['col_3'].sum()"
   ]
  },
  {
   "cell_type": "markdown",
   "id": "efe900e9",
   "metadata": {},
   "source": [
    "## merge\n",
    "Key 값을 기준으로 데이터 프레임을 병합"
   ]
  },
  {
   "cell_type": "markdown",
   "id": "0399659d",
   "metadata": {},
   "source": [
    "[기준열의 이름이 동일 O]"
   ]
  },
  {
   "cell_type": "code",
   "execution_count": null,
   "id": "33eb6084",
   "metadata": {},
   "outputs": [],
   "source": [
    "pd.merge(left, right, on='기준열', how='방식')"
   ]
  },
  {
   "cell_type": "markdown",
   "id": "42b109f8",
   "metadata": {},
   "source": [
    "[기준열의 이름이 동일 X]"
   ]
  },
  {
   "cell_type": "code",
   "execution_count": null,
   "id": "6b4a7c16",
   "metadata": {},
   "outputs": [],
   "source": [
    "pd.merge(left, right, left_on='왼쪽 열', right_on='오른쪽 열', how='방식')"
   ]
  },
  {
   "cell_type": "markdown",
   "id": "88626893",
   "metadata": {},
   "source": [
    "[공통되는 기준열이 여러 개일 때]"
   ]
  },
  {
   "cell_type": "code",
   "execution_count": null,
   "id": "e6f93709",
   "metadata": {},
   "outputs": [],
   "source": [
    "pd.merge(left, right, on=['col_1', 'col_2'])"
   ]
  },
  {
   "cell_type": "markdown",
   "id": "dfaed83b",
   "metadata": {},
   "source": [
    "[방식 1 ; left]\n",
    "* 왼쪽 데이터프레임을 기준으로 병합"
   ]
  },
  {
   "cell_type": "code",
   "execution_count": null,
   "id": "f55aea27",
   "metadata": {},
   "outputs": [],
   "source": [
    "pd.merge(left, right, on='기준열', how='left')"
   ]
  },
  {
   "cell_type": "markdown",
   "id": "95ef9e56",
   "metadata": {},
   "source": [
    "[방식 2 ; right]\n",
    "* 오른쪽 데이터프레임을 기준으로 병합"
   ]
  },
  {
   "cell_type": "code",
   "execution_count": null,
   "id": "f5be8c5c",
   "metadata": {},
   "outputs": [],
   "source": [
    "pd.merge(left, right, on='기준열', how='right')"
   ]
  },
  {
   "cell_type": "markdown",
   "id": "2fa5f234",
   "metadata": {},
   "source": [
    "[방식 3 ; inner]\n",
    "* 양쪽 데이터프레임의 공통값을 기준으로 병합"
   ]
  },
  {
   "cell_type": "code",
   "execution_count": null,
   "id": "140eb7c2",
   "metadata": {},
   "outputs": [],
   "source": [
    "pd.merge(left, right, on='기준열', how='inner')"
   ]
  },
  {
   "cell_type": "markdown",
   "id": "e03d6ccc",
   "metadata": {},
   "source": [
    "[방식 3 ; outer]\n",
    "* 모든 값이 나타나도록 병합\n",
    "* 없는 값들은 NaN으로 나타남"
   ]
  },
  {
   "cell_type": "code",
   "execution_count": null,
   "id": "36ef2504",
   "metadata": {},
   "outputs": [],
   "source": [
    "pd.merge(left, right, on='기준열', how='outer')"
   ]
  },
  {
   "cell_type": "markdown",
   "id": "f7656ebe",
   "metadata": {},
   "source": [
    "## 기타"
   ]
  },
  {
   "cell_type": "markdown",
   "id": "6bcbb2f1",
   "metadata": {},
   "source": [
    "[고유값 확인]"
   ]
  },
  {
   "cell_type": "code",
   "execution_count": 2,
   "id": "57f05b13",
   "metadata": {
    "ExecuteTime": {
     "end_time": "2024-03-08T04:55:17.672068Z",
     "start_time": "2024-03-08T04:55:17.669127Z"
    }
   },
   "outputs": [],
   "source": [
    "#data 데이터프레임에서 col_1 컬럼에 대해서만 추출\n",
    "data.select_dtypes(include='object')"
   ]
  },
  {
   "cell_type": "markdown",
   "id": "3a3320f6",
   "metadata": {},
   "source": [
    "[rename]"
   ]
  },
  {
   "cell_type": "code",
   "execution_count": null,
   "id": "dd0f35e3",
   "metadata": {},
   "outputs": [],
   "source": [
    "# data 데이터프레임에서 col_1, col_2 칼럼명을 col_a, col_b로 변경\n",
    "data.rename(columns={'col_1': 'col_b', \n",
    "                      'col_2': 'col_b'})"
   ]
  }
 ],
 "metadata": {
  "kernelspec": {
   "display_name": "Python 3 (ipykernel)",
   "language": "python",
   "name": "python3"
  },
  "language_info": {
   "codemirror_mode": {
    "name": "ipython",
    "version": 3
   },
   "file_extension": ".py",
   "mimetype": "text/x-python",
   "name": "python",
   "nbconvert_exporter": "python",
   "pygments_lexer": "ipython3",
   "version": "3.11.5"
  },
  "toc": {
   "base_numbering": 1,
   "nav_menu": {},
   "number_sections": true,
   "sideBar": true,
   "skip_h1_title": false,
   "title_cell": "Table of Contents",
   "title_sidebar": "Contents",
   "toc_cell": false,
   "toc_position": {},
   "toc_section_display": true,
   "toc_window_display": false
  }
 },
 "nbformat": 4,
 "nbformat_minor": 5
}
