{
 "cells": [
  {
   "cell_type": "code",
   "execution_count": 1,
   "id": "1645dcb2-8ef5-4932-ad71-6e5f9d2978f3",
   "metadata": {
    "executionInfo": {
     "elapsed": 447,
     "status": "ok",
     "timestamp": 1709818306107,
     "user": {
      "displayName": "eunji an",
      "userId": "08219648982419691488"
     },
     "user_tz": -540
    },
    "id": "1645dcb2-8ef5-4932-ad71-6e5f9d2978f3",
    "tags": []
   },
   "outputs": [],
   "source": [
    "# 라이브러리\n",
    "import pandas as pd\n",
    "import numpy as np\n",
    "import matplotlib.pyplot as plt"
   ]
  },
  {
   "cell_type": "markdown",
   "id": "24vzxVUjHch9",
   "metadata": {
    "id": "24vzxVUjHch9"
   },
   "source": [
    "# 1. 데이터프레임 생성/저장"
   ]
  },
  {
   "cell_type": "markdown",
   "id": "e4f1c495-fd01-4cff-8e4b-a5d6c9c81cd6",
   "metadata": {},
   "source": [
    "### 1.1.생성"
   ]
  },
  {
   "cell_type": "code",
   "execution_count": 2,
   "id": "98pqRO1ZHNis",
   "metadata": {
    "executionInfo": {
     "elapsed": 263,
     "status": "ok",
     "timestamp": 1709823096704,
     "user": {
      "displayName": "eunji an",
      "userId": "08219648982419691488"
     },
     "user_tz": -540
    },
    "id": "98pqRO1ZHNis",
    "tags": []
   },
   "outputs": [],
   "source": [
    "# 리스트\n",
    "list01 = [[1,3,5],\n",
    "          [2,4,6]]\n",
    "names = ['A','B','C']\n",
    "list01_index = [0,1]\n",
    "\n",
    "df1 = pd.DataFrame(list01, index= list01_index, columns= names )\n",
    "\n",
    "# 딕셔너리\n",
    "dict01 = { 'A' : [2,30],\n",
    "          'D': [40,50]}\n",
    "\n",
    "df2 = pd.DataFrame(dict01)\n"
   ]
  },
  {
   "cell_type": "markdown",
   "id": "c9850ec4-5140-4788-9daf-6b53d75abc85",
   "metadata": {
    "tags": []
   },
   "source": [
    "### 1.2. csv"
   ]
  },
  {
   "cell_type": "code",
   "execution_count": null,
   "id": "gsJ5Lle_PSYM",
   "metadata": {
    "id": "gsJ5Lle_PSYM"
   },
   "outputs": [],
   "source": [
    "# 데이터 읽어오기\n",
    "df = pd.read_csv('test.csv')"
   ]
  },
  {
   "cell_type": "code",
   "execution_count": null,
   "id": "O10pLWmxZrLH",
   "metadata": {
    "id": "O10pLWmxZrLH"
   },
   "outputs": [],
   "source": [
    "# 데이터 저장\n",
    "df.to_csv('df.csv', index=False)"
   ]
  },
  {
   "cell_type": "markdown",
   "id": "dtSE05u4P_dH",
   "metadata": {
    "id": "dtSE05u4P_dH"
   },
   "source": [
    "# 2. 데이터프레임 탐색"
   ]
  },
  {
   "cell_type": "code",
   "execution_count": null,
   "id": "JALNUpy3Pj8g",
   "metadata": {
    "id": "JALNUpy3Pj8g"
   },
   "outputs": [],
   "source": [
    "# 상위 데이터 확인\n",
    "df.head()\n",
    "\n",
    "# 하위 데이터 확인\n",
    "df.tail()"
   ]
  },
  {
   "cell_type": "code",
   "execution_count": null,
   "id": "UmggGdjxSMXN",
   "metadata": {
    "id": "UmggGdjxSMXN"
   },
   "outputs": [],
   "source": [
    "# 크기 확인\n",
    "df.shape"
   ]
  },
  {
   "cell_type": "code",
   "execution_count": null,
   "id": "7BgAeq_uSNyw",
   "metadata": {
    "id": "7BgAeq_uSNyw"
   },
   "outputs": [],
   "source": [
    "# 데이터프레임 구조 확인\n",
    "df.info()"
   ]
  },
  {
   "cell_type": "code",
   "execution_count": null,
   "id": "MNMvb0JoSRmw",
   "metadata": {
    "id": "MNMvb0JoSRmw"
   },
   "outputs": [],
   "source": [
    "# 데이터프레임 기술통계 확인\n",
    "df.describe()"
   ]
  },
  {
   "cell_type": "code",
   "execution_count": null,
   "id": "WU476KlyY7sg",
   "metadata": {
    "id": "WU476KlyY7sg"
   },
   "outputs": [],
   "source": [
    "# 값 개수 확인\n",
    "df.value_counts()"
   ]
  },
  {
   "cell_type": "code",
   "execution_count": null,
   "id": "7KSnsks1SUfG",
   "metadata": {
    "id": "7KSnsks1SUfG"
   },
   "outputs": [],
   "source": [
    "# 오름차순 정렬\n",
    "df.sort_values(by = 'col', ascending = True, inplace=True)\n",
    "\n",
    "# 내림차순 정렬\n",
    "df.sort_values(by = 'col', ascending = False, inplace=True)"
   ]
  },
  {
   "cell_type": "code",
   "execution_count": null,
   "id": "36a031ce-1036-4bda-9d1f-9ce0f0b2fccc",
   "metadata": {},
   "outputs": [],
   "source": [
    "# 특정 타입 컬럼만 추출\n",
    "df.select_dtypes(include= 'object')  # 숫자는 number\n",
    "\n",
    "# 컬럼명만 추출\n",
    "df.select_dtypes(include= 'object').columns.values"
   ]
  },
  {
   "cell_type": "markdown",
   "id": "M7H1rxxHQwsM",
   "metadata": {
    "id": "M7H1rxxHQwsM"
   },
   "source": [
    "# 3. 데이터프레임 조회"
   ]
  },
  {
   "cell_type": "code",
   "execution_count": null,
   "id": "aP5V_AgFRqFC",
   "metadata": {
    "id": "aP5V_AgFRqFC"
   },
   "outputs": [],
   "source": [
    "# 특정 열 조회\n",
    "df[['col']]\n",
    "df[['col1','col2']]"
   ]
  },
  {
   "cell_type": "code",
   "execution_count": null,
   "id": "5-kUfeG6WRr3",
   "metadata": {
    "id": "5-kUfeG6WRr3"
   },
   "outputs": [],
   "source": [
    "# 조건 조회\n",
    "df.loc[ df['col'].between(1,5) ]\n",
    "\n",
    "# 조건에 맞는 특정 열 조회\n",
    "df.loc[ df['col'].between(1,5), ['col2']]"
   ]
  },
  {
   "cell_type": "markdown",
   "id": "-Vx8S87LTnCH",
   "metadata": {
    "id": "-Vx8S87LTnCH",
    "tags": []
   },
   "source": [
    "# 4. 데이터프레입 집계"
   ]
  },
  {
   "cell_type": "code",
   "execution_count": null,
   "id": "O1zANYeHTqsf",
   "metadata": {
    "id": "O1zANYeHTqsf"
   },
   "outputs": [],
   "source": [
    "# day별 매출 합계\n",
    "df = df.groupby(by='day', as_index=False)['Amt'].sum()"
   ]
  },
  {
   "cell_type": "markdown",
   "id": "09c49d39-37d6-47e6-87c8-13418a658edd",
   "metadata": {},
   "source": [
    "# 5. 데이터프레임 변경"
   ]
  },
  {
   "cell_type": "markdown",
   "id": "fa12cc9a-6d5b-411f-93c4-8da05ce6d065",
   "metadata": {},
   "source": [
    "### 5.1. 변경"
   ]
  },
  {
   "cell_type": "code",
   "execution_count": null,
   "id": "9pgcokqvRxjn",
   "metadata": {
    "id": "9pgcokqvRxjn"
   },
   "outputs": [],
   "source": [
    "# 열 이름 변경\n",
    "df.rename(columns = {'old':'new'}, inplace=True)"
   ]
  },
  {
   "cell_type": "code",
   "execution_count": null,
   "id": "f293a180-a7eb-4f32-a60d-2175fc25e37c",
   "metadata": {},
   "outputs": [],
   "source": [
    "# 값 변경\n",
    "df['Gender'] = df['Gender'].replace({'M':1, 'F':2})"
   ]
  },
  {
   "cell_type": "code",
   "execution_count": null,
   "id": "ZO5zMSaYQ1wR",
   "metadata": {
    "id": "ZO5zMSaYQ1wR"
   },
   "outputs": [],
   "source": [
    "# 타입 변환\n",
    "df['col'] = df['col'].astype(int) # 정수로 변환"
   ]
  },
  {
   "cell_type": "code",
   "execution_count": null,
   "id": "6BbCBO6oRXDR",
   "metadata": {
    "id": "6BbCBO6oRXDR"
   },
   "outputs": [],
   "source": [
    "# 날짜\n",
    "df['Date'] = pd.to_datetime(df['Date'])\n",
    "df['Year'] = df['Date'].dt.year\n",
    "df['Year'] = df['Date'].dt.month\n",
    "df['Year'] = df['Date'].dt.day_name()"
   ]
  },
  {
   "cell_type": "markdown",
   "id": "60cb2091-1e5b-4d7c-ae1e-e90082915c92",
   "metadata": {},
   "source": [
    "### 5.2. 삭제"
   ]
  },
  {
   "cell_type": "code",
   "execution_count": null,
   "id": "14430674-1b46-4492-b2a0-3d298c9332ee",
   "metadata": {},
   "outputs": [],
   "source": [
    "# 열/행 삭제\n",
    "df.drop('col', axis=1, inplace=True)"
   ]
  },
  {
   "cell_type": "code",
   "execution_count": null,
   "id": "zgPf9X7zYGxs",
   "metadata": {
    "id": "zgPf9X7zYGxs"
   },
   "outputs": [],
   "source": [
    "# 중복된 값 제거\n",
    "df.drop_duplicates(subset='col', keep='first') # subset 특정 열 중복 검사, keep 첫번째값 유지."
   ]
  },
  {
   "cell_type": "markdown",
   "id": "adba321f-25ac-4afa-9a04-0901ff4b368b",
   "metadata": {},
   "source": [
    "### 5.3. 결측치"
   ]
  },
  {
   "cell_type": "code",
   "execution_count": null,
   "id": "95065091-b2d4-439a-90b2-59dbd927eb03",
   "metadata": {},
   "outputs": [],
   "source": [
    "# 결측값 확인\n",
    "df['col'].isna().sum()"
   ]
  },
  {
   "cell_type": "code",
   "execution_count": null,
   "id": "6TN4uidtWRw_",
   "metadata": {
    "id": "6TN4uidtWRw_"
   },
   "outputs": [],
   "source": [
    "# 결측치값 채우기\n",
    "df['col'].fillna(1, inplace=True)"
   ]
  },
  {
   "cell_type": "markdown",
   "id": "76138c60-c678-40ec-95b7-1eb5829757c7",
   "metadata": {},
   "source": [
    "### 5.4. 가변수화"
   ]
  },
  {
   "cell_type": "code",
   "execution_count": null,
   "id": "wCeJCGAnWRun",
   "metadata": {
    "id": "wCeJCGAnWRun"
   },
   "outputs": [],
   "source": [
    "# 가변수화\n",
    "dumm_cols = ['col1','col2']\n",
    "df = pd.get_dummies(df, columns= dumm_cols, drop_first=True, dtype=int)"
   ]
  },
  {
   "cell_type": "markdown",
   "id": "TBSkScAQT8NU",
   "metadata": {
    "id": "TBSkScAQT8NU"
   },
   "source": [
    "# 6. 데이터프레임 조인"
   ]
  },
  {
   "cell_type": "code",
   "execution_count": 3,
   "id": "zhO--FFyUVtv",
   "metadata": {
    "colab": {
     "base_uri": "https://localhost:8080/",
     "height": 220
    },
    "executionInfo": {
     "elapsed": 296,
     "status": "ok",
     "timestamp": 1709823101456,
     "user": {
      "displayName": "eunji an",
      "userId": "08219648982419691488"
     },
     "user_tz": -540
    },
    "id": "zhO--FFyUVtv",
    "outputId": "e94b813d-6f0d-4819-a3b1-f5a78e6548da",
    "tags": []
   },
   "outputs": [
    {
     "data": {
      "text/html": [
       "<div>\n",
       "<style scoped>\n",
       "    .dataframe tbody tr th:only-of-type {\n",
       "        vertical-align: middle;\n",
       "    }\n",
       "\n",
       "    .dataframe tbody tr th {\n",
       "        vertical-align: top;\n",
       "    }\n",
       "\n",
       "    .dataframe thead th {\n",
       "        text-align: right;\n",
       "    }\n",
       "</style>\n",
       "<table border=\"1\" class=\"dataframe\">\n",
       "  <thead>\n",
       "    <tr style=\"text-align: right;\">\n",
       "      <th></th>\n",
       "      <th>A</th>\n",
       "      <th>B</th>\n",
       "      <th>C</th>\n",
       "    </tr>\n",
       "  </thead>\n",
       "  <tbody>\n",
       "    <tr>\n",
       "      <th>0</th>\n",
       "      <td>1</td>\n",
       "      <td>3</td>\n",
       "      <td>5</td>\n",
       "    </tr>\n",
       "    <tr>\n",
       "      <th>1</th>\n",
       "      <td>2</td>\n",
       "      <td>4</td>\n",
       "      <td>6</td>\n",
       "    </tr>\n",
       "  </tbody>\n",
       "</table>\n",
       "</div>"
      ],
      "text/plain": [
       "   A  B  C\n",
       "0  1  3  5\n",
       "1  2  4  6"
      ]
     },
     "metadata": {},
     "output_type": "display_data"
    },
    {
     "data": {
      "text/html": [
       "<div>\n",
       "<style scoped>\n",
       "    .dataframe tbody tr th:only-of-type {\n",
       "        vertical-align: middle;\n",
       "    }\n",
       "\n",
       "    .dataframe tbody tr th {\n",
       "        vertical-align: top;\n",
       "    }\n",
       "\n",
       "    .dataframe thead th {\n",
       "        text-align: right;\n",
       "    }\n",
       "</style>\n",
       "<table border=\"1\" class=\"dataframe\">\n",
       "  <thead>\n",
       "    <tr style=\"text-align: right;\">\n",
       "      <th></th>\n",
       "      <th>A</th>\n",
       "      <th>D</th>\n",
       "    </tr>\n",
       "  </thead>\n",
       "  <tbody>\n",
       "    <tr>\n",
       "      <th>0</th>\n",
       "      <td>2</td>\n",
       "      <td>40</td>\n",
       "    </tr>\n",
       "    <tr>\n",
       "      <th>1</th>\n",
       "      <td>30</td>\n",
       "      <td>50</td>\n",
       "    </tr>\n",
       "  </tbody>\n",
       "</table>\n",
       "</div>"
      ],
      "text/plain": [
       "    A   D\n",
       "0   2  40\n",
       "1  30  50"
      ]
     },
     "metadata": {},
     "output_type": "display_data"
    }
   ],
   "source": [
    "display(df1, df2)"
   ]
  },
  {
   "cell_type": "code",
   "execution_count": 4,
   "id": "57PgAVRlUVih",
   "metadata": {
    "colab": {
     "base_uri": "https://localhost:8080/",
     "height": 143
    },
    "executionInfo": {
     "elapsed": 288,
     "status": "ok",
     "timestamp": 1709823106096,
     "user": {
      "displayName": "eunji an",
      "userId": "08219648982419691488"
     },
     "user_tz": -540
    },
    "id": "57PgAVRlUVih",
    "outputId": "a274a187-30e4-4d36-cbf4-6faa10077a0e",
    "tags": []
   },
   "outputs": [
    {
     "data": {
      "text/html": [
       "<div>\n",
       "<style scoped>\n",
       "    .dataframe tbody tr th:only-of-type {\n",
       "        vertical-align: middle;\n",
       "    }\n",
       "\n",
       "    .dataframe tbody tr th {\n",
       "        vertical-align: top;\n",
       "    }\n",
       "\n",
       "    .dataframe thead th {\n",
       "        text-align: right;\n",
       "    }\n",
       "</style>\n",
       "<table border=\"1\" class=\"dataframe\">\n",
       "  <thead>\n",
       "    <tr style=\"text-align: right;\">\n",
       "      <th></th>\n",
       "      <th>A</th>\n",
       "      <th>B</th>\n",
       "      <th>C</th>\n",
       "      <th>D</th>\n",
       "    </tr>\n",
       "  </thead>\n",
       "  <tbody>\n",
       "    <tr>\n",
       "      <th>0</th>\n",
       "      <td>1</td>\n",
       "      <td>3.0</td>\n",
       "      <td>5.0</td>\n",
       "      <td>NaN</td>\n",
       "    </tr>\n",
       "    <tr>\n",
       "      <th>1</th>\n",
       "      <td>2</td>\n",
       "      <td>4.0</td>\n",
       "      <td>6.0</td>\n",
       "      <td>40.0</td>\n",
       "    </tr>\n",
       "    <tr>\n",
       "      <th>2</th>\n",
       "      <td>30</td>\n",
       "      <td>NaN</td>\n",
       "      <td>NaN</td>\n",
       "      <td>50.0</td>\n",
       "    </tr>\n",
       "  </tbody>\n",
       "</table>\n",
       "</div>"
      ],
      "text/plain": [
       "    A    B    C     D\n",
       "0   1  3.0  5.0   NaN\n",
       "1   2  4.0  6.0  40.0\n",
       "2  30  NaN  NaN  50.0"
      ]
     },
     "execution_count": 4,
     "metadata": {},
     "output_type": "execute_result"
    }
   ],
   "source": [
    "# merge - outer\n",
    "df = pd.merge(df1, df2, on='A', how='outer')\n",
    "\n",
    "df"
   ]
  },
  {
   "cell_type": "code",
   "execution_count": 5,
   "id": "d0HS_qDRUV1P",
   "metadata": {
    "colab": {
     "base_uri": "https://localhost:8080/",
     "height": 89
    },
    "executionInfo": {
     "elapsed": 626,
     "status": "ok",
     "timestamp": 1709823110512,
     "user": {
      "displayName": "eunji an",
      "userId": "08219648982419691488"
     },
     "user_tz": -540
    },
    "id": "d0HS_qDRUV1P",
    "outputId": "dcdb1cad-b110-4f60-d96c-d066c39113f1",
    "tags": []
   },
   "outputs": [
    {
     "data": {
      "text/html": [
       "<div>\n",
       "<style scoped>\n",
       "    .dataframe tbody tr th:only-of-type {\n",
       "        vertical-align: middle;\n",
       "    }\n",
       "\n",
       "    .dataframe tbody tr th {\n",
       "        vertical-align: top;\n",
       "    }\n",
       "\n",
       "    .dataframe thead th {\n",
       "        text-align: right;\n",
       "    }\n",
       "</style>\n",
       "<table border=\"1\" class=\"dataframe\">\n",
       "  <thead>\n",
       "    <tr style=\"text-align: right;\">\n",
       "      <th></th>\n",
       "      <th>A</th>\n",
       "      <th>B</th>\n",
       "      <th>C</th>\n",
       "      <th>D</th>\n",
       "    </tr>\n",
       "  </thead>\n",
       "  <tbody>\n",
       "    <tr>\n",
       "      <th>0</th>\n",
       "      <td>2</td>\n",
       "      <td>4</td>\n",
       "      <td>6</td>\n",
       "      <td>40</td>\n",
       "    </tr>\n",
       "  </tbody>\n",
       "</table>\n",
       "</div>"
      ],
      "text/plain": [
       "   A  B  C   D\n",
       "0  2  4  6  40"
      ]
     },
     "execution_count": 5,
     "metadata": {},
     "output_type": "execute_result"
    }
   ],
   "source": [
    "# merte - inner\n",
    "df = pd.merge(df1, df2, on='A', how='inner')\n",
    "\n",
    "df"
   ]
  },
  {
   "cell_type": "code",
   "execution_count": 6,
   "id": "rQ3IJC_ET_K4",
   "metadata": {
    "colab": {
     "base_uri": "https://localhost:8080/",
     "height": 125
    },
    "executionInfo": {
     "elapsed": 3,
     "status": "ok",
     "timestamp": 1709823112794,
     "user": {
      "displayName": "eunji an",
      "userId": "08219648982419691488"
     },
     "user_tz": -540
    },
    "id": "rQ3IJC_ET_K4",
    "outputId": "b97b6141-ae35-48e8-a172-dd17fb9ea6c7",
    "tags": []
   },
   "outputs": [
    {
     "data": {
      "text/html": [
       "<div>\n",
       "<style scoped>\n",
       "    .dataframe tbody tr th:only-of-type {\n",
       "        vertical-align: middle;\n",
       "    }\n",
       "\n",
       "    .dataframe tbody tr th {\n",
       "        vertical-align: top;\n",
       "    }\n",
       "\n",
       "    .dataframe thead th {\n",
       "        text-align: right;\n",
       "    }\n",
       "</style>\n",
       "<table border=\"1\" class=\"dataframe\">\n",
       "  <thead>\n",
       "    <tr style=\"text-align: right;\">\n",
       "      <th></th>\n",
       "      <th>A</th>\n",
       "      <th>B</th>\n",
       "      <th>C</th>\n",
       "      <th>D</th>\n",
       "    </tr>\n",
       "  </thead>\n",
       "  <tbody>\n",
       "    <tr>\n",
       "      <th>0</th>\n",
       "      <td>1</td>\n",
       "      <td>3</td>\n",
       "      <td>5</td>\n",
       "      <td>NaN</td>\n",
       "    </tr>\n",
       "    <tr>\n",
       "      <th>1</th>\n",
       "      <td>2</td>\n",
       "      <td>4</td>\n",
       "      <td>6</td>\n",
       "      <td>40.0</td>\n",
       "    </tr>\n",
       "  </tbody>\n",
       "</table>\n",
       "</div>"
      ],
      "text/plain": [
       "   A  B  C     D\n",
       "0  1  3  5   NaN\n",
       "1  2  4  6  40.0"
      ]
     },
     "execution_count": 6,
     "metadata": {},
     "output_type": "execute_result"
    }
   ],
   "source": [
    "# merge - left\n",
    "df = pd.merge(df1, df2, on='A', how='left')\n",
    "\n",
    "df"
   ]
  },
  {
   "cell_type": "code",
   "execution_count": 7,
   "id": "OdwIhdX3UV7g",
   "metadata": {
    "colab": {
     "base_uri": "https://localhost:8080/",
     "height": 125
    },
    "executionInfo": {
     "elapsed": 346,
     "status": "ok",
     "timestamp": 1709823116675,
     "user": {
      "displayName": "eunji an",
      "userId": "08219648982419691488"
     },
     "user_tz": -540
    },
    "id": "OdwIhdX3UV7g",
    "outputId": "55dc342a-b995-44cc-e423-d10b4c13c29b",
    "tags": []
   },
   "outputs": [
    {
     "data": {
      "text/html": [
       "<div>\n",
       "<style scoped>\n",
       "    .dataframe tbody tr th:only-of-type {\n",
       "        vertical-align: middle;\n",
       "    }\n",
       "\n",
       "    .dataframe tbody tr th {\n",
       "        vertical-align: top;\n",
       "    }\n",
       "\n",
       "    .dataframe thead th {\n",
       "        text-align: right;\n",
       "    }\n",
       "</style>\n",
       "<table border=\"1\" class=\"dataframe\">\n",
       "  <thead>\n",
       "    <tr style=\"text-align: right;\">\n",
       "      <th></th>\n",
       "      <th>A</th>\n",
       "      <th>B</th>\n",
       "      <th>C</th>\n",
       "      <th>D</th>\n",
       "    </tr>\n",
       "  </thead>\n",
       "  <tbody>\n",
       "    <tr>\n",
       "      <th>0</th>\n",
       "      <td>2</td>\n",
       "      <td>4.0</td>\n",
       "      <td>6.0</td>\n",
       "      <td>40</td>\n",
       "    </tr>\n",
       "    <tr>\n",
       "      <th>1</th>\n",
       "      <td>30</td>\n",
       "      <td>NaN</td>\n",
       "      <td>NaN</td>\n",
       "      <td>50</td>\n",
       "    </tr>\n",
       "  </tbody>\n",
       "</table>\n",
       "</div>"
      ],
      "text/plain": [
       "    A    B    C   D\n",
       "0   2  4.0  6.0  40\n",
       "1  30  NaN  NaN  50"
      ]
     },
     "execution_count": 7,
     "metadata": {},
     "output_type": "execute_result"
    }
   ],
   "source": [
    "# merge - right\n",
    "df = pd.merge(df1, df2, on='A', how='right')\n",
    "\n",
    "df"
   ]
  },
  {
   "cell_type": "markdown",
   "id": "90119c6d-0634-496d-9f7b-7b868544bcdc",
   "metadata": {},
   "source": [
    "# 7. 시각화"
   ]
  },
  {
   "cell_type": "code",
   "execution_count": null,
   "id": "0ed59f90-934b-4ba2-b70a-977695e7b41a",
   "metadata": {},
   "outputs": [],
   "source": [
    "# 차트에 한글폰트 설정\n",
    "plt.rc('font', family='Malgun Gothic')"
   ]
  },
  {
   "cell_type": "code",
   "execution_count": null,
   "id": "9fde543e-c5f0-420f-ab9e-42168874d5cf",
   "metadata": {},
   "outputs": [],
   "source": [
    "# plt.\n",
    "plt.figure(figsize = (5,3)) # 크기조절\n",
    "plt.xticks(rotation=45)     # x축 기울기\n",
    "plt.bar(x= df['col1'], height= df['col2'])\n",
    "plt.title('title', pad=15, size = 15, fontweight='bold')\n",
    "plt.xlabel('x label')\n",
    "plt.ylabel('y label')\n",
    "plt.show()"
   ]
  },
  {
   "cell_type": "code",
   "execution_count": null,
   "id": "feae294b-b143-43fd-9821-eb157c9b7e25",
   "metadata": {},
   "outputs": [],
   "source": [
    "# plot()\n",
    "df.plot(kind='bar')         # 차트 종류"
   ]
  },
  {
   "cell_type": "markdown",
   "id": "233412ee",
   "metadata": {},
   "source": [
    "# 1-1. 유통채널 이탈 고객 분석 데이터"
   ]
  },
  {
   "cell_type": "markdown",
   "id": "26bd8c8f",
   "metadata": {},
   "source": [
    "## 날짜별 집계"
   ]
  },
  {
   "cell_type": "markdown",
   "id": "c86d938b",
   "metadata": {},
   "source": [
    "- 일별 매출액"
   ]
  },
  {
   "cell_type": "code",
   "execution_count": null,
   "id": "2810b58c",
   "metadata": {},
   "outputs": [],
   "source": [
    "#날짜 데이터형식 변환(pd.to_datetime 사용)\n",
    "df['colunm_name'] = pd.to_datetime(df['column_name'])\n",
    "\n",
    "#특정 기간 데이터 추출(조건 추출: loc 함수 사용)\n",
    "a = df.loc[sales['column'] < '특정 기간']\n",
    "\n",
    "#일별 매출액 합계, 일별 고객당 평균 구매액, 일별 방문 고객 수 등(groupby 함수, 집계 함수 사용)\n",
    "a = df.groupby('기준 컬럼명', as_index = False)['집계 컬럼명'].sum()\n",
    "a = df.groupby('기준 컬럼명', as_index = False)['집계 컬럼명'].mean()\n",
    "a = df.groupby('기준 컬럼명', as_index=False)['집계 컬럼명'].count()"
   ]
  },
  {
   "cell_type": "markdown",
   "id": "c4649873",
   "metadata": {},
   "source": [
    "- 월별 매출액"
   ]
  },
  {
   "cell_type": "code",
   "execution_count": null,
   "id": "f3a2fe3a",
   "metadata": {},
   "outputs": [],
   "source": [
    "#월 컬럼 생성\n",
    "df['colunm_name'] = pd.to_datetime(df['column_name'])\n",
    "df['Month'] = df['날짜형 컬럼'].dt.month\n",
    "\n",
    "#월별 매출액 합계(날짜 기준으로 데이터 계산)\n",
    "a = df.groupby(['Year','Month'], as_index = False)['집계 컬럼명'].sum()"
   ]
  },
  {
   "cell_type": "markdown",
   "id": "16fcbdee",
   "metadata": {},
   "source": [
    "- 요일별 매출액"
   ]
  },
  {
   "cell_type": "code",
   "execution_count": null,
   "id": "8c695639",
   "metadata": {},
   "outputs": [],
   "source": [
    "#요일 컬럼 추가\n",
    "df['Weekday'] = df['날짜형 데이터'].dt.day_name()"
   ]
  },
  {
   "cell_type": "markdown",
   "id": "d520ab2e",
   "metadata": {},
   "source": [
    "## 상품별 집계 데이터"
   ]
  },
  {
   "cell_type": "markdown",
   "id": "646e53c3",
   "metadata": {},
   "source": [
    "- 매출액 상위 상품"
   ]
  },
  {
   "cell_type": "code",
   "execution_count": null,
   "id": "1762129b",
   "metadata": {},
   "outputs": [],
   "source": [
    "#top10 추출\n",
    "top10 = df.sort_values('정렬 기준 칼럼명', ascending = False).head(10)"
   ]
  },
  {
   "cell_type": "code",
   "execution_count": null,
   "id": "2661590d",
   "metadata": {},
   "outputs": [],
   "source": [
    "#비중 칼럼 생성\n",
    "df['Rate'] = df['Amt'] / df['Amt'].sum()"
   ]
  },
  {
   "cell_type": "markdown",
   "id": "0021a4fc",
   "metadata": {},
   "source": [
    "## 이탈 고객 데이터 전처리"
   ]
  },
  {
   "cell_type": "markdown",
   "id": "05ccd204",
   "metadata": {},
   "source": [
    "- 대상 고객 만들기"
   ]
  },
  {
   "cell_type": "code",
   "execution_count": null,
   "id": "be72769a",
   "metadata": {},
   "outputs": [],
   "source": [
    "#대상 고객 조건1(가입연도 2014-16년)\n",
    "cust01 = customers.loc[customers['RegisterDate'].between('2014-01-01', '2016-12-31')]\n",
    "\n",
    "#대상 고객 조건2(2016 하반기 구매 이력)\n",
    "cust02 = sales.loc[sales['OrderDate'].between('2016-07-01', '2016-12-31')]\n",
    "#중복행 제거\n",
    "cust02 = cust02.drop_duplicates(subset='CustomerID', keep='first')\n",
    "\n",
    "#두 조건을 만족하는 데이터\n",
    "cust_churn0 = pd.merge(cust01, cust02, on='CustomerID', how='outer')"
   ]
  },
  {
   "cell_type": "code",
   "execution_count": null,
   "id": "c14ed854",
   "metadata": {},
   "outputs": [],
   "source": [
    "#중복행 제거 함수\n",
    "df = df.drop_duplicates(subset='중복행 제거 기준 열', keep='남길 행 기준')"
   ]
  },
  {
   "cell_type": "markdown",
   "id": "a1b69d17",
   "metadata": {},
   "source": [
    "- label 만들기"
   ]
  },
  {
   "cell_type": "code",
   "execution_count": null,
   "id": "129ce061",
   "metadata": {},
   "outputs": [],
   "source": [
    "#이탈 고객 여부(2017년 1-3월간 구매이력이 있는지)\n",
    "cust03 = sales.loc[sales['OrderDate'].between('2017-01-01', '2017-03-31'),['CustomerID']].drop_duplicates(keep='first')\n",
    "\n",
    "#label 열 추가\n",
    "cust03['churn'] = 0"
   ]
  },
  {
   "cell_type": "code",
   "execution_count": null,
   "id": "e9110091",
   "metadata": {},
   "outputs": [],
   "source": [
    "#대상 고객이 이탈 고객인지 확인할 수 있는 데이터 생성\n",
    "cust_churn0 = pd.merge(cust_churn0, cust03, how = 'left')\n",
    "\n",
    "#이탈 고객인 데이터 형식 변환(churn 열의 결측치)\n",
    "cust_churn0['churn'].fillna(1, inplace = True)\n",
    "\n",
    "#이탈 고객 수 확인\n",
    "cust_churn0['churn'].value_counts()"
   ]
  },
  {
   "cell_type": "markdown",
   "id": "b1d22117",
   "metadata": {},
   "source": [
    "- feature 추가하기: label에 영향을 줄 수 있는 원인 탐색"
   ]
  },
  {
   "cell_type": "code",
   "execution_count": null,
   "id": "af7513ff",
   "metadata": {},
   "outputs": [],
   "source": [
    "# 가입연수 feature 추가\n",
    "cust_churn0['RegDuration'] = 2016 - cust_churn0.RegisterDate.dt.year\n",
    "\n",
    "#최근 3개월간 방문 횟수\n",
    "temp = sales.loc[sales['OrderDate'].between('2016-10-01', '2016-12-31')]\n",
    "temp = temp[['OrderID', 'OrderDate','CustomerID']].drop_duplicates()\n",
    "temp2 = temp.groupby('CustomerID', as_index=False)['OrderDate'].count()\n",
    "\n",
    "#최근 3개월간 구매 금액\n",
    "temp2 = temp.groupby('CustomerID', as_index=False)['Amt'].sum()"
   ]
  },
  {
   "cell_type": "markdown",
   "id": "60e2e97b",
   "metadata": {},
   "source": [
    "## 데이터셋 저장"
   ]
  },
  {
   "cell_type": "code",
   "execution_count": null,
   "id": "a8d2af08",
   "metadata": {},
   "outputs": [],
   "source": [
    "#데이터셋 저장\n",
    "df.to_csv('파일명.csv', index=False)"
   ]
  },
  {
   "cell_type": "markdown",
   "id": "bf1b3823",
   "metadata": {},
   "source": [
    "# 1-2. 토익점수 예측 데이터"
   ]
  },
  {
   "cell_type": "markdown",
   "id": "d3e728fd",
   "metadata": {},
   "source": [
    "## 데이터 전처리"
   ]
  },
  {
   "cell_type": "code",
   "execution_count": null,
   "id": "306de8cc",
   "metadata": {},
   "outputs": [],
   "source": [
    "#필요없는 칼럼 제거\n",
    "data.drop('칼럼명', axis=1, inplace=True)"
   ]
  },
  {
   "cell_type": "markdown",
   "id": "b22ad332",
   "metadata": {},
   "source": [
    "- 관련있는 열끼리 분리해서 새 데이터프레임 생성"
   ]
  },
  {
   "cell_type": "code",
   "execution_count": null,
   "id": "e5f12ecf",
   "metadata": {},
   "outputs": [],
   "source": [
    "#예: 수강생 개인 정보와 토익 공부에 대한 정보로 분리 등 \n",
    "df1 = df[['col1', 'col2', 'col3'...]]\n",
    "df2 = df[['col7', 'col8', 'col9'...]]"
   ]
  },
  {
   "cell_type": "markdown",
   "id": "05d0d779",
   "metadata": {},
   "source": [
    "- 중복값 제거"
   ]
  },
  {
   "cell_type": "code",
   "execution_count": null,
   "id": "3185c76e",
   "metadata": {},
   "outputs": [],
   "source": [
    "#분리된 칼럼 내 중복값 제거\n",
    "df = df.drop_duplicates()"
   ]
  },
  {
   "cell_type": "markdown",
   "id": "c41b6cb5",
   "metadata": {},
   "source": [
    "- 각 정보를 한 행으로 만들기"
   ]
  },
  {
   "cell_type": "code",
   "execution_count": null,
   "id": "476135aa",
   "metadata": {},
   "outputs": [],
   "source": [
    "#예: 총 점수 열 -> 회차별 점수 열로 분리(총 점수 열에 들어있던 각 회차별 정보를 한 행으로 만들기)\n",
    "df1 = df.loc[df['분리 기준 열'] == '특정값'] #특정 값 추출 후 데이터프레임 생성\n",
    "df1 = df1.rename(columns={'LC_Score': '3st_LC_Score', ...}) #열 이름 변경"
   ]
  },
  {
   "cell_type": "markdown",
   "id": "da5fe88c",
   "metadata": {},
   "source": [
    "- 새로 생성한 데이터프레임 병합"
   ]
  },
  {
   "cell_type": "code",
   "execution_count": null,
   "id": "01c94ec3",
   "metadata": {},
   "outputs": [],
   "source": [
    "#각 정보를 담은 데이터프레임 병합\n",
    "total_df = pd.merge(df1, df2, on='기준 열', how='방식')"
   ]
  },
  {
   "cell_type": "markdown",
   "id": "45024079",
   "metadata": {},
   "source": [
    "- 레이블 컬럼 생성"
   ]
  },
  {
   "cell_type": "code",
   "execution_count": null,
   "id": "5ce58be6",
   "metadata": {},
   "outputs": [],
   "source": [
    "#2차시, 3차시 점수 차이 변수 생성\n",
    "baseline_data['Score_diff_total'] = baseline_data['3st_Total_Score'] - baseline_data['2st_Total_Score']"
   ]
  },
  {
   "cell_type": "markdown",
   "id": "f4b1173a",
   "metadata": {},
   "source": [
    "## 데이터 다듬기"
   ]
  },
  {
   "cell_type": "code",
   "execution_count": null,
   "id": "93e41560",
   "metadata": {},
   "outputs": [],
   "source": [
    "#고유값 확인\n",
    "data.select_dtypes(object)\n",
    "data.select_dtypes(['number'])"
   ]
  },
  {
   "cell_type": "code",
   "execution_count": null,
   "id": "4974cf41",
   "metadata": {},
   "outputs": [],
   "source": [
    "#칼럼명 확인\n",
    "data.columns.values"
   ]
  },
  {
   "cell_type": "code",
   "execution_count": null,
   "id": "0bd16ca7",
   "metadata": {},
   "outputs": [],
   "source": [
    "#데이터가 차지하는 비율 구하기\n",
    "data['칼럼명'].value_counts()/ len(data)"
   ]
  },
  {
   "cell_type": "code",
   "execution_count": null,
   "id": "44130e57",
   "metadata": {},
   "outputs": [],
   "source": [
    "#빈도수 데이터 시각화\n",
    "df['칼럼명'].value_counts().plot(kind='bar')\n",
    "plt.show()"
   ]
  },
  {
   "cell_type": "code",
   "execution_count": null,
   "id": "813c950e",
   "metadata": {},
   "outputs": [],
   "source": [
    "#값 변경\n",
    "data['컬럼명']=data['컬럼명'].replace(['기존값1', '기존값2'], [새로운 값1, 새로운 값2])"
   ]
  }
 ],
 "metadata": {
  "colab": {
   "provenance": []
  },
  "kernelspec": {
   "display_name": "Python 3 (ipykernel)",
   "language": "python",
   "name": "python3"
  },
  "language_info": {
   "codemirror_mode": {
    "name": "ipython",
    "version": 3
   },
   "file_extension": ".py",
   "mimetype": "text/x-python",
   "name": "python",
   "nbconvert_exporter": "python",
   "pygments_lexer": "ipython3",
   "version": "3.11.5"
  },
  "toc": {
   "base_numbering": 1,
   "nav_menu": {},
   "number_sections": true,
   "sideBar": true,
   "skip_h1_title": false,
   "title_cell": "Table of Contents",
   "title_sidebar": "Contents",
   "toc_cell": false,
   "toc_position": {},
   "toc_section_display": true,
   "toc_window_display": false
  }
 },
 "nbformat": 4,
 "nbformat_minor": 5
}
