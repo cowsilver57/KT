{
 "cells": [
  {
   "cell_type": "markdown",
   "metadata": {
    "id": "y1J78TFSRrSA"
   },
   "source": [
    "<center><img src='https://raw.githubusercontent.com/Jangrae/img/master/ml_python.png' width=600/></center>"
   ]
  },
  {
   "cell_type": "markdown",
   "metadata": {
    "id": "NY9FtARpPcY3"
   },
   "source": [
    "<img src = \"https://github.com/Jangrae/img/blob/master/attrition.png?raw=true\" width=800 align=\"left\"/>"
   ]
  },
  {
   "cell_type": "markdown",
   "metadata": {
    "id": "elUlK1gCJHGh"
   },
   "source": [
    "# 실습 내용\n",
    "\n",
    "- 다양한 알고리즘으로 모델을 만들고 성능을 검증합니다.\n",
    "- 성능이 좋을 것으로 판단된 모델로 예측 및 평가를 수행합니다."
   ]
  },
  {
   "cell_type": "markdown",
   "metadata": {
    "id": "IciCQGJy5PO-"
   },
   "source": [
    "# 1.환경 준비\n",
    "\n",
    "- 기본 라이브러리와 대상 데이터를 가져와 이후 과정을 준비합니다."
   ]
  },
  {
   "cell_type": "code",
   "execution_count": null,
   "metadata": {
    "id": "jB0l6oqDsG8B"
   },
   "outputs": [],
   "source": [
    "# 라이브러리 불러오기\n",
    "import numpy as np\n",
    "import pandas as pd\n",
    "import matplotlib.pyplot as plt\n",
    "import seaborn as sns\n",
    "import warnings\n",
    "\n",
    "warnings.filterwarnings(action='ignore')\n",
    "%config InlineBackend.figure_format = 'retina'"
   ]
  },
  {
   "cell_type": "code",
   "execution_count": null,
   "metadata": {
    "id": "PXqyu_0LsG8C"
   },
   "outputs": [],
   "source": [
    "# 데이터 불러오기\n",
    "path = 'https://raw.githubusercontent.com/jangrae/csv/master/Attrition_simple2.csv'\n",
    "data = pd.read_csv(path)"
   ]
  },
  {
   "cell_type": "markdown",
   "metadata": {
    "id": "hDHOQrUbNGSK"
   },
   "source": [
    "# 2.데이터 이해\n",
    "\n",
    "- 분석할 데이터를 충분히 이해할 수 있도록 다양한 탐색 과정을 수행합니다."
   ]
  },
  {
   "cell_type": "code",
   "execution_count": null,
   "metadata": {
    "id": "Z1ahypi3irLz"
   },
   "outputs": [],
   "source": [
    "# 데이터 살펴보기\n",
    "data.head()"
   ]
  },
  {
   "cell_type": "markdown",
   "metadata": {
    "id": "pGNBOVfEPcY4"
   },
   "source": [
    "**데이터 설명**\n",
    "\n",
    "- Attrition: 이직 여부 (1: 이직, 0: 잔류)\n",
    "- Age: 나이\n",
    "- DistanceFromHome: 집-직장 거리 (단위: 마일)\n",
    "- EmployeeNumber: 사번\n",
    "- Gender: 성별 (Male, Female)\n",
    "- JobSatisfaction: 직무 만족도(1: Low, 2: Medium, 3: High, 4: Very High)\n",
    "- MaritalStatus: 결혼 상태 (Single, Married, Divorced)\n",
    "- MonthlyIncome: 월급 (단위: 달러)\n",
    "- OverTime: 야근 여부 (Yes, No)\n",
    "- PercentSalaryHike: 전년 대비 급여 인상율(단위: %)\n",
    "- TotalWorkingYears: 총 경력 연수"
   ]
  },
  {
   "cell_type": "code",
   "execution_count": null,
   "metadata": {
    "id": "HGHlgWSwtSYh"
   },
   "outputs": [],
   "source": [
    "# 기술통계 확인\n",
    "data.describe()"
   ]
  },
  {
   "cell_type": "markdown",
   "metadata": {
    "id": "xyfvv8VLTvgu",
    "tags": []
   },
   "source": [
    "# 3.데이터 준비\n",
    "\n",
    "- 전처리 과정을 통해 머신러닝 알고리즘에 사용할 수 있는 형태의 데이터를 준비합니다."
   ]
  },
  {
   "cell_type": "markdown",
   "metadata": {
    "id": "zeC2p9m8PcY5"
   },
   "source": [
    "**1) 변수 제거**\n",
    "\n",
    "- 제거 대상 변수: EmployeeNumber"
   ]
  },
  {
   "cell_type": "code",
   "execution_count": null,
   "metadata": {
    "id": "vxBUmntePcY5"
   },
   "outputs": [],
   "source": [
    "# 제거 대상: EmployeeNumber\n",
    "del_cols = ['EmployeeNumber']\n",
    "\n",
    "# 변수 제거\n",
    "data.drop(del_cols, axis=1, inplace=True)\n",
    "\n",
    "# 확인\n",
    "data.head()"
   ]
  },
  {
   "cell_type": "markdown",
   "metadata": {
    "id": "BE_0rwxPdErC"
   },
   "source": [
    "**2) x, y 분리**"
   ]
  },
  {
   "cell_type": "code",
   "execution_count": null,
   "metadata": {
    "id": "Ops0CDL2dEDe"
   },
   "outputs": [],
   "source": [
    "# target 확인\n",
    "target = 'Attrition'\n",
    "\n",
    "# 데이터 분리\n",
    "x = data.drop(target, axis=1)\n",
    "y = data[target]"
   ]
  },
  {
   "cell_type": "markdown",
   "metadata": {
    "id": "FmptGbWLBHn5"
   },
   "source": [
    "**3) 가변수화**"
   ]
  },
  {
   "cell_type": "code",
   "execution_count": null,
   "metadata": {
    "id": "CDnjJtWVfGyx"
   },
   "outputs": [],
   "source": [
    "# 가변수화 대상\n",
    "dumm_cols = ['Gender', 'JobSatisfaction', 'MaritalStatus', 'OverTime']\n",
    "\n",
    "# 가변수화\n",
    "x = pd.get_dummies(x, columns=dumm_cols, drop_first=True, dtype=int)\n",
    "\n",
    "# 확인\n",
    "x.head()"
   ]
  },
  {
   "cell_type": "markdown",
   "metadata": {
    "id": "CIZn6GJhTPQy"
   },
   "source": [
    "**4) 학습용, 검증용, 평가용 데이터 분리**\n",
    "\n",
    "- 학습용, 평가용 데이터는 7:3으로 분리합니다.\n",
    "- 학습 데이터를 다시 8:2 비율로 학습용, 검증용 데이터로 분리합니다."
   ]
  },
  {
   "cell_type": "code",
   "execution_count": null,
   "metadata": {
    "id": "PktSAf43CpOB"
   },
   "outputs": [],
   "source": [
    "# 모듈 불러오기\n",
    "from sklearn.model_selection import train_test_split\n",
    "\n",
    "# 학습용, 평가용 7:3 분리\n",
    "x_train, x_test, y_train, y_test = train_test_split(x, y, test_size=0.3, random_state=1)\n",
    "\n",
    "# 학습용, 검증용 8:2 분리\n",
    "x_train, x_val, y_train, y_val = train_test_split(x_train, y_train, test_size=0.2, random_state=1)"
   ]
  },
  {
   "cell_type": "markdown",
   "metadata": {
    "id": "3flw-FxfTMAs"
   },
   "source": [
    "**5) 정규화**\n",
    "\n",
    "- KNN 알고리즘을 위해 정규화를 진행하여 별도로 저장합니다.\n",
    "- 평가 데이터에 대한 정규화는 진행하지 않습니다.\n",
    "- 평가 데이터에 대한 정규화는 최종 평가 시 필요할 때 진행합니다."
   ]
  },
  {
   "cell_type": "code",
   "execution_count": null,
   "metadata": {
    "id": "yr7ohkRzCpr4"
   },
   "outputs": [],
   "source": [
    "# 모듈 불러오기\n",
    "from sklearn.preprocessing import MinMaxScaler\n",
    "\n",
    "# 정규화\n",
    "scaler = MinMaxScaler()\n",
    "scaler.fit(x_train)\n",
    "x_train_s = scaler.transform(x_train)\n",
    "x_val_s = scaler.transform(x_val)"
   ]
  },
  {
   "cell_type": "markdown",
   "metadata": {
    "id": "BYr1vtpd8uw4",
    "tags": []
   },
   "source": [
    "# 4.성능 예측\n",
    "\n",
    "- 여러 알고리즘으로 모델을 만들고 K-Fold CV로 성능을 예측합니다.\n",
    "- 하이퍼파라미터를 설정하지 않고 진행합니다.\n",
    "- 각 모델의 성능 정보를 수집해 마지막에 비교합니다."
   ]
  },
  {
   "cell_type": "code",
   "execution_count": null,
   "metadata": {
    "id": "-uuErqxvPcY7"
   },
   "outputs": [],
   "source": [
    "# xgboost 설치\n",
    "# !pip install xgboost"
   ]
  },
  {
   "cell_type": "code",
   "execution_count": null,
   "metadata": {
    "id": "Y-QDWCThPcY7"
   },
   "outputs": [],
   "source": [
    "# lightgbm 설치\n",
    "# !pip install lightgbm"
   ]
  },
  {
   "cell_type": "markdown",
   "metadata": {
    "id": "UyMu-I0sPcY7"
   },
   "source": [
    "- 이후 사용할 함수를 모두 불러옵니다."
   ]
  },
  {
   "cell_type": "code",
   "execution_count": null,
   "metadata": {
    "id": "ZwbFPDInPcY7"
   },
   "outputs": [],
   "source": [
    "# 불러오기\n",
    "from sklearn.neighbors import KNeighborsClassifier\n",
    "from sklearn.tree import DecisionTreeClassifier\n",
    "from sklearn.ensemble import RandomForestClassifier\n",
    "from lightgbm import LGBMClassifier\n",
    "\n",
    "from sklearn.model_selection import GridSearchCV\n",
    "from sklearn.metrics import *"
   ]
  },
  {
   "cell_type": "markdown",
   "metadata": {
    "id": "9pqwajKFyK4F"
   },
   "source": [
    "**1) KNN**\n",
    "\n",
    "- KNN 알고리즘으로 최선의 하이퍼파라미터를 갖는 모델을 만듭니다."
   ]
  },
  {
   "cell_type": "code",
   "execution_count": null,
   "metadata": {
    "id": "ziotuce6yK4G",
    "tags": []
   },
   "outputs": [],
   "source": [
    "# 매개변수 범위('n_neighbors': range(1, 21))\n",
    "params = {'n_neighbors': range(1, 21)}\n",
    "\n",
    "# 모델 선언\n",
    "model_knn = GridSearchCV(KNeighborsClassifier(), params, cv=5)\n",
    "\n",
    "# 학습\n",
    "model_knn.fit(x_train_s, y_train)\n",
    "\n",
    "# 매개변수와 성능 확인\n",
    "print(model_knn.best_params_)\n",
    "print(model_knn.best_score_)"
   ]
  },
  {
   "cell_type": "markdown",
   "metadata": {},
   "source": [
    "- 검증 데이터로 성능을 검증하고, 검증된 성능 정보를 수집해 다른 모델과 비교합니다."
   ]
  },
  {
   "cell_type": "code",
   "execution_count": null,
   "metadata": {
    "id": "cUPJ1rMoPVS4",
    "tags": []
   },
   "outputs": [],
   "source": [
    "# 예측하기\n",
    "y_val_pred = model_knn.predict(x_val_s)\n",
    "\n",
    "# 검증하기\n",
    "print(confusion_matrix(y_val, y_val_pred))\n",
    "print(classification_report(y_val, y_val_pred))\n",
    "\n",
    "# 성능정보 수집(Accuracy Score)\n",
    "result = {}\n",
    "result['KNN'] = accuracy_score(y_val, y_val_pred)\n",
    "print(result)"
   ]
  },
  {
   "cell_type": "markdown",
   "metadata": {
    "id": "9pqwajKFyK4F"
   },
   "source": [
    "**2) Decision Tree**\n",
    "\n",
    "- Decision Tree 알고리즘으로 최선의 하이퍼파라미터를 갖는 모델을 만듭니다."
   ]
  },
  {
   "cell_type": "code",
   "execution_count": null,
   "metadata": {
    "id": "ziotuce6yK4G",
    "tags": []
   },
   "outputs": [],
   "source": [
    "# 매개변수 범위('max_depth': range(1, 11))\n",
    "params = {'max_depth': range(1, 11)}\n",
    "\n",
    "# 모델 선언\n",
    "model_dt = GridSearchCV(DecisionTreeClassifier(), params, cv=5)\n",
    "\n",
    "# 학습\n",
    "model_dt.fit(x_train, y_train)\n",
    "\n",
    "# 매개변수와 성능 확인\n",
    "print(model_dt.best_params_)\n",
    "print(model_dt.best_score_)"
   ]
  },
  {
   "cell_type": "markdown",
   "metadata": {},
   "source": [
    "- 검증 데이터로 성능을 검증하고, 검증된 성능 정보를 수집해 다른 모델과 비교합니다."
   ]
  },
  {
   "cell_type": "code",
   "execution_count": null,
   "metadata": {
    "id": "cUPJ1rMoPVS4",
    "tags": []
   },
   "outputs": [],
   "source": [
    "# 예측하기\n",
    "y_val_pred = model_dt.predict(x_val)\n",
    "\n",
    "# 검증하기\n",
    "print(confusion_matrix(y_val, y_val_pred))\n",
    "print(classification_report(y_val, y_val_pred))\n",
    "\n",
    "# 성능정보 수집(Accuracy Score)\n",
    "result['Decision Tree'] = accuracy_score(y_val, y_val_pred)\n",
    "print(result)"
   ]
  },
  {
   "cell_type": "markdown",
   "metadata": {
    "id": "9pqwajKFyK4F"
   },
   "source": [
    "**3) Random Forest**\n",
    "\n",
    "- Random Forest 알고리즘으로 최선의 하이퍼파라미터를 갖는 모델을 만듭니다."
   ]
  },
  {
   "cell_type": "code",
   "execution_count": null,
   "metadata": {
    "id": "ziotuce6yK4G",
    "tags": []
   },
   "outputs": [],
   "source": [
    "# 매개변수 범위('max_depth': range(1, 11), 'n_estimators': range(80, 121, 10))\n",
    "params = {'max_depth': range(1, 11), 'n_estimators': range(80, 121, 10)}\n",
    "\n",
    "# 모델 선언\n",
    "model_rf = GridSearchCV(RandomForestClassifier(), params, cv=5)\n",
    "\n",
    "# 학습\n",
    "model_rf.fit(x_train, y_train)\n",
    "\n",
    "# 매개변수와 성능 확인\n",
    "print(model_rf.best_params_)\n",
    "print(model_rf.best_score_)"
   ]
  },
  {
   "cell_type": "markdown",
   "metadata": {},
   "source": [
    "- 검증 데이터로 성능을 검증하고, 검증된 성능 정보를 수집해 다른 모델과 비교합니다."
   ]
  },
  {
   "cell_type": "code",
   "execution_count": null,
   "metadata": {
    "id": "cUPJ1rMoPVS4",
    "tags": []
   },
   "outputs": [],
   "source": [
    "# 예측하기\n",
    "y_val_pred = model_rf.predict(x_val)\n",
    "\n",
    "# 검증하기\n",
    "print(confusion_matrix(y_val, y_val_pred))\n",
    "print(classification_report(y_val, y_val_pred))\n",
    "\n",
    "# 성능정보 수집(Accuracy Score)\n",
    "result['Random Forest'] = accuracy_score(y_val, y_val_pred)\n",
    "print(result)"
   ]
  },
  {
   "cell_type": "markdown",
   "metadata": {
    "id": "9pqwajKFyK4F"
   },
   "source": [
    "**4) LightGBM**\n",
    "\n",
    "- LightGBM 알고리즘으로 최선의 하이퍼파라미터를 갖는 모델을 만듭니다."
   ]
  },
  {
   "cell_type": "code",
   "execution_count": null,
   "metadata": {
    "id": "ziotuce6yK4G",
    "tags": []
   },
   "outputs": [],
   "source": [
    "# 매개변수 범위('max_depth': range(1, 11), 'n_estimators': range(80, 121, 10))\n",
    "params = {'max_depth': range(1, 11), 'n_estimators': range(80, 121, 10)}\n",
    "\n",
    "# 모델 선언\n",
    "model_lgb = GridSearchCV(LGBMClassifier(importance_type='gain', verbose=-1), params, cv=5)\n",
    "\n",
    "# 학습\n",
    "model_lgb.fit(x_train, y_train)\n",
    "\n",
    "# 매개변수와 성능 확인\n",
    "print(model_lgb.best_params_)\n",
    "print(model_lgb.best_score_)"
   ]
  },
  {
   "cell_type": "markdown",
   "metadata": {},
   "source": [
    "- 검증 데이터로 성능을 검증하고, 검증된 성능 정보를 수집해 다른 모델과 비교합니다."
   ]
  },
  {
   "cell_type": "code",
   "execution_count": null,
   "metadata": {
    "id": "cUPJ1rMoPVS4",
    "tags": []
   },
   "outputs": [],
   "source": [
    "# 예측하기\n",
    "y_val_pred = model_lgb.predict(x_val)\n",
    "\n",
    "# 검증하기\n",
    "print(confusion_matrix(y_val, y_val_pred))\n",
    "print(classification_report(y_val, y_val_pred))\n",
    "\n",
    "# 성능정보 수집(Accuracy Score)\n",
    "result['LightGBM'] = accuracy_score(y_val, y_val_pred)\n",
    "print(result)"
   ]
  },
  {
   "cell_type": "markdown",
   "metadata": {
    "id": "TElvCizcPVS6"
   },
   "source": [
    "# 5.성능 비교\n",
    "\n",
    "- 검증된 각 모델의 성능을 비교합니다."
   ]
  },
  {
   "cell_type": "code",
   "execution_count": null,
   "metadata": {
    "id": "x7Uutv4xPVS6",
    "tags": []
   },
   "outputs": [],
   "source": [
    "# 데이터프레임 만들기\n",
    "score = pd.DataFrame()\n",
    "score['Model'] = list(result)\n",
    "score['Accuracy'] = result.values()\n",
    "\n",
    "# 확인\n",
    "score"
   ]
  },
  {
   "cell_type": "markdown",
   "metadata": {
    "id": "TL84f2GRPVS7",
    "tags": []
   },
   "source": [
    "# 6.최종 예측 및 평가\n",
    "\n",
    "- 가장 성능이 좋다고 검증된 모델로 평가 데이터에 대해 예측 및 평가를 수행합니다."
   ]
  },
  {
   "cell_type": "code",
   "execution_count": null,
   "metadata": {
    "id": "S_0rQ-ZsPVS7",
    "tags": []
   },
   "outputs": [],
   "source": [
    "# 예측하기\n",
    "y_pred = model_lgb.predict(x_test)"
   ]
  },
  {
   "cell_type": "code",
   "execution_count": null,
   "metadata": {
    "tags": []
   },
   "outputs": [],
   "source": [
    "# 평가하기\n",
    "print(confusion_matrix(y_test, y_pred))\n",
    "print(classification_report(y_test, y_pred))"
   ]
  },
  {
   "cell_type": "markdown",
   "metadata": {},
   "source": [
    "- 변수 중요도를 시각화합니다."
   ]
  },
  {
   "cell_type": "code",
   "execution_count": null,
   "metadata": {
    "tags": []
   },
   "outputs": [],
   "source": [
    "# 데이터프레임 만들기\n",
    "df = pd.DataFrame()\n",
    "df['Feature'] = list(x)\n",
    "feature_importances_gain = model_lgb.best_estimator_.feature_importances_\n",
    "feature_importances_normalized = feature_importances_gain / np.sum(feature_importances_gain)\n",
    "df['Importance'] = feature_importances_normalized\n",
    "df.sort_values(by='Importance', ascending=True, inplace=True)\n",
    "\n",
    "# 시각화\n",
    "plt.figure(figsize=(3, 5))\n",
    "plt.barh(y=df['Feature'], width=df['Importance'])\n",
    "plt.show()"
   ]
  }
 ],
 "metadata": {
  "colab": {
   "provenance": []
  },
  "kernelspec": {
   "display_name": "Python 3 (ipykernel)",
   "language": "python",
   "name": "python3"
  },
  "language_info": {
   "codemirror_mode": {
    "name": "ipython",
    "version": 3
   },
   "file_extension": ".py",
   "mimetype": "text/x-python",
   "name": "python",
   "nbconvert_exporter": "python",
   "pygments_lexer": "ipython3",
   "version": "3.11.5"
  }
 },
 "nbformat": 4,
 "nbformat_minor": 4
}
