{
 "cells": [
  {
   "cell_type": "markdown",
   "metadata": {
    "id": "y1J78TFSRrSA"
   },
   "source": [
    "<center><img src='https://raw.githubusercontent.com/Jangrae/img/master/ml_python.png' width=600/></center>"
   ]
  },
  {
   "cell_type": "markdown",
   "metadata": {
    "id": "IZTDT86-PVSw"
   },
   "source": [
    "<img src = \"https://github.com/Jangrae/img/blob/master/medical2.png?raw=true\" width=800 align=\"left\"/>"
   ]
  },
  {
   "cell_type": "markdown",
   "metadata": {
    "id": "elUlK1gCJHGh"
   },
   "source": [
    "# 실습 내용\n",
    "\n",
    "- 다양한 알고리즘으로 모델을 만들고 성능을 검증합니다.\n",
    "- 성능이 좋을 것으로 판단된 모델로 예측을 수행합니다.\n",
    "- 예측된 결과를 기존 평가 파일에 병합합니다."
   ]
  },
  {
   "cell_type": "markdown",
   "metadata": {
    "id": "IciCQGJy5PO-"
   },
   "source": [
    "# 1.환경 준비\n",
    "\n",
    "- 기본 라이브러리와 대상 데이터를 가져와 이후 과정을 준비합니다."
   ]
  },
  {
   "cell_type": "code",
   "execution_count": null,
   "metadata": {
    "id": "jB0l6oqDsG8B",
    "tags": []
   },
   "outputs": [],
   "source": [
    "# 라이브러리 불러오기\n",
    "import numpy as np\n",
    "import pandas as pd\n",
    "import matplotlib.pyplot as plt\n",
    "import seaborn as sns\n",
    "import warnings\n",
    "\n",
    "warnings.filterwarnings(action='ignore')\n",
    "%config InlineBackend.figure_format = 'retina'"
   ]
  },
  {
   "cell_type": "code",
   "execution_count": null,
   "metadata": {
    "id": "PXqyu_0LsG8C",
    "tags": []
   },
   "outputs": [],
   "source": [
    "# 학습 데이터 불러오기\n",
    "path = 'https://raw.githubusercontent.com/jangrae/csv/master/insurance_train.csv'\n",
    "data1 = pd.read_csv(path)\n",
    "\n",
    "# 평가 데이터 불러오기\n",
    "path = 'https://raw.githubusercontent.com/jangrae/csv/master/insurance_test.csv'\n",
    "data2 = pd.read_csv(path)"
   ]
  },
  {
   "cell_type": "markdown",
   "metadata": {
    "id": "hDHOQrUbNGSK"
   },
   "source": [
    "# 2.데이터 이해\n",
    "\n",
    "- 분석할 데이터를 충분히 이해할 수 있도록 다양한 탐색 과정을 수행합니다."
   ]
  },
  {
   "cell_type": "code",
   "execution_count": null,
   "metadata": {
    "id": "Z1ahypi3irLz",
    "tags": []
   },
   "outputs": [],
   "source": [
    "# 학습 데이터 살펴보기\n",
    "data1.head()"
   ]
  },
  {
   "cell_type": "markdown",
   "metadata": {
    "id": "xpVE5kFzPVSz"
   },
   "source": [
    "**데이터 설명**\n",
    "\n",
    "- age: 나이\n",
    "- sex: 성별(female, male)\n",
    "- bmi: 체질량지수(체중을 키의 제곱으로 나눈 값, 적정수준:18.5 - 24.9)\n",
    "- children: 자녀 수\n",
    "- smoker: 흡연 여부\n",
    "- region: 거주지역(northeast, southeast, southwest, northwest)\n",
    "- charges: 건강보험에서 지불한 의료비 - Target"
   ]
  },
  {
   "cell_type": "code",
   "execution_count": null,
   "metadata": {
    "tags": []
   },
   "outputs": [],
   "source": [
    "# 평가 데이터 살펴보기\n",
    "data2.head()"
   ]
  },
  {
   "cell_type": "code",
   "execution_count": null,
   "metadata": {
    "id": "HGHlgWSwtSYh",
    "tags": []
   },
   "outputs": [],
   "source": [
    "# 학습 데이터 기술통계 확인\n",
    "data1.describe()"
   ]
  },
  {
   "cell_type": "code",
   "execution_count": null,
   "metadata": {
    "tags": []
   },
   "outputs": [],
   "source": [
    "# 평가 데이터 기술통계 확인\n",
    "data2.describe()"
   ]
  },
  {
   "cell_type": "code",
   "execution_count": null,
   "metadata": {
    "id": "unmEr4STtzGn",
    "tags": []
   },
   "outputs": [],
   "source": [
    "# 학습 데이터 Target 분포 시각화\n",
    "plt.figure(figsize=(8, 4))\n",
    "plt.subplot(2, 1, 1)\n",
    "plt.hist(data1['charges'], bins=30, alpha=0.7, ec='k')\n",
    "plt.subplot(2, 1, 2)\n",
    "plt.boxplot(x=data1['charges'], vert=False)\n",
    "plt.show()"
   ]
  },
  {
   "cell_type": "code",
   "execution_count": null,
   "metadata": {
    "id": "IpMpZZPbvPYR",
    "tags": []
   },
   "outputs": [],
   "source": [
    "# 학습 데이터 흡연자 비율 시각화\n",
    "plt.figure(figsize=(8, 3))\n",
    "sns.countplot(x=data1['smoker'])\n",
    "plt.show()"
   ]
  },
  {
   "cell_type": "code",
   "execution_count": null,
   "metadata": {
    "id": "kD8tMG9rve2Q",
    "tags": []
   },
   "outputs": [],
   "source": [
    "# 학습 데이터 남녀 비율 시각화\n",
    "plt.figure(figsize=(8, 3))\n",
    "sns.countplot(x=data1['sex'])\n",
    "plt.show()"
   ]
  },
  {
   "cell_type": "code",
   "execution_count": null,
   "metadata": {
    "id": "QfNheIWjvlfa",
    "tags": []
   },
   "outputs": [],
   "source": [
    "# 학습 데이터 흡연 여부에 따른 의료비 시각화\n",
    "plt.figure(figsize=(8, 3))\n",
    "sns.histplot(x=data1['charges'], hue=data1['smoker'], bins=40)\n",
    "plt.show()"
   ]
  },
  {
   "cell_type": "markdown",
   "metadata": {
    "id": "xyfvv8VLTvgu",
    "tags": []
   },
   "source": [
    "# 3.데이터 준비\n",
    "\n",
    "- 학습 데이터를 전처리해 모델링을 진행할 수 있는 형태의 데이터를 준비합니다."
   ]
  },
  {
   "cell_type": "markdown",
   "metadata": {
    "id": "BE_0rwxPdErC"
   },
   "source": [
    "**1) x, y 분리**\n",
    "\n",
    "- Target 변수를 선정하고, x, y로 분리합니다."
   ]
  },
  {
   "cell_type": "code",
   "execution_count": null,
   "metadata": {
    "id": "Ops0CDL2dEDe",
    "tags": []
   },
   "outputs": [],
   "source": [
    "# target 확인\n",
    "target = 'charges'\n",
    "\n",
    "# 데이터 분리\n",
    "x = data1.drop(target, axis=1)\n",
    "y = data1.loc[:, target]"
   ]
  },
  {
   "cell_type": "markdown",
   "metadata": {
    "id": "FmptGbWLBHn5"
   },
   "source": [
    "**2) 가변수화**\n",
    "\n",
    "- 가변수화를 수행합니다.\n",
    "- 문자열 변수에 대해서는 필히 가변수화를 수행합니다."
   ]
  },
  {
   "cell_type": "code",
   "execution_count": null,
   "metadata": {
    "id": "CDnjJtWVfGyx",
    "tags": []
   },
   "outputs": [],
   "source": [
    "# 가변수화 대상\n",
    "dumm_cols = ['sex', 'smoker', 'region']\n",
    "\n",
    "# 가변수화\n",
    "x = pd.get_dummies(x, columns=dumm_cols, drop_first=True, dtype=int)\n",
    "\n",
    "# 확인\n",
    "x.head()"
   ]
  },
  {
   "cell_type": "markdown",
   "metadata": {
    "id": "CIZn6GJhTPQy"
   },
   "source": [
    "**3) 학습용, 검증용 데이터 분리**\n",
    "\n",
    "- 학습용, 검증용 데이터를 7:3으로 분리합니다."
   ]
  },
  {
   "cell_type": "code",
   "execution_count": null,
   "metadata": {
    "id": "PktSAf43CpOB",
    "tags": []
   },
   "outputs": [],
   "source": [
    "# 모듈 불러오기\n",
    "from sklearn.model_selection import train_test_split\n",
    "\n",
    "# 데이터 분리\n",
    "x_train, x_val, y_train, y_val = train_test_split(x, y, test_size=0.3, random_state=1)"
   ]
  },
  {
   "cell_type": "markdown",
   "metadata": {
    "id": "3flw-FxfTMAs"
   },
   "source": [
    "**4) 정규화**\n",
    "\n",
    "- KNN 알고리즘을 위해 정규화를 수행합니다.\n",
    "- 정규화 결과는 별도 변수로 준비해 둡니다. 예) x_train_s, x_val_s"
   ]
  },
  {
   "cell_type": "code",
   "execution_count": null,
   "metadata": {
    "id": "yr7ohkRzCpr4",
    "tags": []
   },
   "outputs": [],
   "source": [
    "# 모듈 불러오기\n",
    "from sklearn.preprocessing import MinMaxScaler\n",
    "\n",
    "# 정규화\n",
    "scaler = MinMaxScaler()\n",
    "x_train_s = scaler.fit_transform(x_train)\n",
    "x_val_s = scaler.transform(x_val)"
   ]
  },
  {
   "cell_type": "markdown",
   "metadata": {
    "id": "BYr1vtpd8uw4",
    "tags": []
   },
   "source": [
    "# 4.모델링\n",
    "\n",
    "- 여러 알고리즘으로 최적의 성능을 갖는 모델을 만들고 성능을 검증합니다.\n",
    "- 검증된 성능 정보를 수집해 비교하여 가장 좋은 성능을 보이는 모델을 선택합니다.\n",
    "- 모델 이름은 알고리즘마다 다르게 합니다. 예) model_lr, model_dt,..."
   ]
  },
  {
   "cell_type": "code",
   "execution_count": null,
   "metadata": {
    "id": "0FiGni9hPVS2",
    "tags": []
   },
   "outputs": [],
   "source": [
    "# xgboost 설치\n",
    "# !pip install xgboost"
   ]
  },
  {
   "cell_type": "code",
   "execution_count": null,
   "metadata": {
    "id": "q_pVLAbrPVS2",
    "tags": []
   },
   "outputs": [],
   "source": [
    "# lightgbm 설치\n",
    "# !pip install lightgbm"
   ]
  },
  {
   "cell_type": "markdown",
   "metadata": {
    "id": "1ma3TDsHPVS2"
   },
   "source": [
    "- 이후 사용할 함수를 모두 불러옵니다."
   ]
  },
  {
   "cell_type": "code",
   "execution_count": null,
   "metadata": {
    "id": "0VmIPSbCPVS3",
    "tags": []
   },
   "outputs": [],
   "source": [
    "# 불러오기\n",
    "from sklearn.neighbors import KNeighborsRegressor\n",
    "from sklearn.tree import DecisionTreeRegressor\n",
    "from sklearn.ensemble import RandomForestRegressor\n",
    "from xgboost import XGBRegressor\n",
    "\n",
    "from sklearn.model_selection import GridSearchCV\n",
    "from sklearn.metrics import mean_absolute_error, r2_score"
   ]
  },
  {
   "cell_type": "markdown",
   "metadata": {
    "id": "9pqwajKFyK4F"
   },
   "source": [
    "**1) KNN**\n",
    "\n",
    "- KNN 알고리즘으로 최선의 하이퍼파라미터를 갖는 모델을 만듭니다."
   ]
  },
  {
   "cell_type": "code",
   "execution_count": null,
   "metadata": {
    "id": "ziotuce6yK4G",
    "tags": []
   },
   "outputs": [],
   "source": [
    "# 매개변수 범위('n_neighbors': range(1, 21))\n",
    "params = {'n_neighbors': range(1, 21)}\n",
    "\n",
    "# 모델 선언\n",
    "model_knn = GridSearchCV(KNeighborsRegressor(), params, cv=5)\n",
    "\n",
    "# 학습\n",
    "model_knn.fit(x_train_s, y_train)\n",
    "\n",
    "# 매개변수와 성능 확인\n",
    "print(model_knn.best_params_)\n",
    "print(model_knn.best_score_)"
   ]
  },
  {
   "cell_type": "markdown",
   "metadata": {},
   "source": [
    "- 검증 데이터로 성능을 검증하고, 검증된 성능 정보를 수집해 다른 모델과 비교합니다."
   ]
  },
  {
   "cell_type": "code",
   "execution_count": null,
   "metadata": {
    "id": "cUPJ1rMoPVS4",
    "tags": []
   },
   "outputs": [],
   "source": [
    "# 예측하기\n",
    "y_val_pred = model_knn.predict(x_val_s)\n",
    "\n",
    "# 검증하기\n",
    "print(mean_absolute_error(y_val, y_val_pred))\n",
    "print(r2_score(y_val, y_val_pred))\n",
    "\n",
    "# 성능정보 수집(R2 Score)\n",
    "result = {}\n",
    "result['KNN'] = r2_score(y_val, y_val_pred)\n",
    "print(result)"
   ]
  },
  {
   "cell_type": "markdown",
   "metadata": {
    "id": "9pqwajKFyK4F"
   },
   "source": [
    "**2) Decision Tree**\n",
    "\n",
    "- Decision Tree 알고리즘으로 최선의 하이퍼파라미터를 갖는 모델을 만듭니다."
   ]
  },
  {
   "cell_type": "code",
   "execution_count": null,
   "metadata": {
    "id": "ziotuce6yK4G",
    "tags": []
   },
   "outputs": [],
   "source": [
    "# 매개변수 범위('max_depth': range(1, 11))\n",
    "params = {'max_depth': range(1, 11)}\n",
    "\n",
    "# 모델 선언\n",
    "model_dt = GridSearchCV(DecisionTreeRegressor(), params, cv=5)\n",
    "\n",
    "# 학습\n",
    "model_dt.fit(x_train, y_train)\n",
    "\n",
    "# 매개변수와 성능 확인\n",
    "print(model_dt.best_params_)\n",
    "print(model_dt.best_score_)"
   ]
  },
  {
   "cell_type": "markdown",
   "metadata": {},
   "source": [
    "- 검증 데이터로 성능을 검증하고, 검증된 성능 정보를 수집해 다른 모델과 비교합니다."
   ]
  },
  {
   "cell_type": "code",
   "execution_count": null,
   "metadata": {
    "id": "cUPJ1rMoPVS4",
    "tags": []
   },
   "outputs": [],
   "source": [
    "# 예측하기\n",
    "y_val_pred = model_dt.predict(x_val)\n",
    "\n",
    "# 검증하기\n",
    "print(mean_absolute_error(y_val, y_val_pred))\n",
    "print(r2_score(y_val, y_val_pred))\n",
    "\n",
    "# 성능정보 수집(R2 Score)\n",
    "result['Decision Tree'] = r2_score(y_val, y_val_pred)\n",
    "print(result)"
   ]
  },
  {
   "cell_type": "markdown",
   "metadata": {
    "id": "9pqwajKFyK4F"
   },
   "source": [
    "**3) Random Forest**\n",
    "\n",
    "- Random Forest 알고리즘으로 최선의 하이퍼파라미터를 갖는 모델을 만듭니다."
   ]
  },
  {
   "cell_type": "code",
   "execution_count": null,
   "metadata": {
    "id": "ziotuce6yK4G",
    "tags": []
   },
   "outputs": [],
   "source": [
    "# 매개변수 범위('max_depth': range(1, 11))\n",
    "params = {'max_depth': range(1, 11)}\n",
    "\n",
    "# 모델 선언\n",
    "model_rf = GridSearchCV(RandomForestRegressor(), params, cv=5)\n",
    "\n",
    "# 학습\n",
    "model_rf.fit(x_train, y_train)\n",
    "\n",
    "# 매개변수와 성능 확인\n",
    "print(model_rf.best_params_)\n",
    "print(model_rf.best_score_)"
   ]
  },
  {
   "cell_type": "markdown",
   "metadata": {},
   "source": [
    "- 검증 데이터로 성능을 검증하고, 검증된 성능 정보를 수집해 다른 모델과 비교합니다."
   ]
  },
  {
   "cell_type": "code",
   "execution_count": null,
   "metadata": {
    "id": "cUPJ1rMoPVS4",
    "tags": []
   },
   "outputs": [],
   "source": [
    "# 예측하기\n",
    "y_val_pred = model_rf.predict(x_val)\n",
    "\n",
    "# 검증하기\n",
    "print(mean_absolute_error(y_val, y_val_pred))\n",
    "print(r2_score(y_val, y_val_pred))\n",
    "\n",
    "# 성능정보 수집(R2 Score)\n",
    "result['Random Forest'] = r2_score(y_val, y_val_pred)\n",
    "print(result)"
   ]
  },
  {
   "cell_type": "markdown",
   "metadata": {
    "id": "9pqwajKFyK4F"
   },
   "source": [
    "**4) XGBoost**\n",
    "\n",
    "- XGBoost 알고리즘으로 최선의 하이퍼파라미터를 갖는 모델을 만듭니다."
   ]
  },
  {
   "cell_type": "code",
   "execution_count": null,
   "metadata": {
    "id": "ziotuce6yK4G",
    "tags": []
   },
   "outputs": [],
   "source": [
    "# 매개변수 범위('max_depth': range(1, 11))\n",
    "params = {'max_depth': range(1, 11)}\n",
    "\n",
    "# 모델 선언\n",
    "model_xgb = GridSearchCV(XGBRegressor(), params, cv=5)\n",
    "\n",
    "# 학습\n",
    "model_xgb.fit(x_train, y_train)\n",
    "\n",
    "# 매개변수와 성능 확인\n",
    "print(model_xgb.best_params_)\n",
    "print(model_xgb.best_score_)"
   ]
  },
  {
   "cell_type": "markdown",
   "metadata": {},
   "source": [
    "- 검증 데이터로 성능을 검증하고, 검증된 성능 정보를 수집해 다른 모델과 비교합니다."
   ]
  },
  {
   "cell_type": "code",
   "execution_count": null,
   "metadata": {
    "id": "cUPJ1rMoPVS4",
    "tags": []
   },
   "outputs": [],
   "source": [
    "# 예측하기\n",
    "y_val_pred = model_xgb.predict(x_val)\n",
    "\n",
    "# 검증하기\n",
    "print(mean_absolute_error(y_val, y_val_pred))\n",
    "print(r2_score(y_val, y_val_pred))\n",
    "\n",
    "# 성능정보 수집(R2 Score)\n",
    "result['XGBoost'] = r2_score(y_val, y_val_pred)\n",
    "print(result)"
   ]
  },
  {
   "cell_type": "markdown",
   "metadata": {
    "id": "TElvCizcPVS6"
   },
   "source": [
    "# 5.성능 비교\n",
    "\n",
    "- 검증된 각 모델의 성능을 비교합니다."
   ]
  },
  {
   "cell_type": "code",
   "execution_count": null,
   "metadata": {
    "id": "x7Uutv4xPVS6",
    "tags": []
   },
   "outputs": [],
   "source": [
    "# 데이터프레임 만들기\n",
    "score = pd.DataFrame()\n",
    "score['Model'] = list(result)\n",
    "score['R2'] = result.values()\n",
    "\n",
    "# 확인\n",
    "score"
   ]
  },
  {
   "cell_type": "markdown",
   "metadata": {
    "id": "TL84f2GRPVS7",
    "tags": []
   },
   "source": [
    "# 6.최종 예측\n",
    "\n",
    "- 가장 성능이 좋다고 검증된 모델로 평가 데이터에 대해 예측을 수행합니다.\n",
    "- 평가 데이터 정답이 없으므로 예측 결과에 대한 평가를 수행할 수는 없습니다."
   ]
  },
  {
   "cell_type": "markdown",
   "metadata": {},
   "source": [
    "**1) 평가 데이터 준비**\n",
    "\n",
    "- 평가 대상 데이터를 준비합니다."
   ]
  },
  {
   "cell_type": "code",
   "execution_count": null,
   "metadata": {
    "tags": []
   },
   "outputs": [],
   "source": [
    "# 평가 데이터\n",
    "x_test = data2\n",
    "\n",
    "# 확인\n",
    "x_test.head()"
   ]
  },
  {
   "cell_type": "markdown",
   "metadata": {},
   "source": [
    "**2) 가변수화**\n",
    "\n",
    "- 학습 데이터와 동일한 변수를 갖도록 가변수화를 수행합니다."
   ]
  },
  {
   "cell_type": "code",
   "execution_count": null,
   "metadata": {
    "tags": []
   },
   "outputs": [],
   "source": [
    "# 가변수화 대상\n",
    "dumm_cols = ['sex', 'smoker', 'region']\n",
    "\n",
    "# 가변수화\n",
    "x_test = pd.get_dummies(x_test, columns=dumm_cols, drop_first=True, dtype=int)\n",
    "\n",
    "# 확인\n",
    "x_test.head()"
   ]
  },
  {
   "cell_type": "markdown",
   "metadata": {},
   "source": [
    "**3) 예측하기**\n",
    "\n",
    "- 가장 좋은 성능을 검증 받은 모델로 예측을 수행합니다."
   ]
  },
  {
   "cell_type": "code",
   "execution_count": null,
   "metadata": {
    "id": "S_0rQ-ZsPVS7",
    "tags": []
   },
   "outputs": [],
   "source": [
    "# 예측하기\n",
    "y_pred = model_rf.predict(x_test)"
   ]
  },
  {
   "cell_type": "code",
   "execution_count": null,
   "metadata": {
    "id": "TQosSFlYPVS7",
    "tags": []
   },
   "outputs": [],
   "source": [
    "# 예측값 확인\n",
    "print(y_pred[:10])"
   ]
  },
  {
   "cell_type": "markdown",
   "metadata": {},
   "source": [
    "**4) 예측 결과 병합**\n",
    "\n",
    "- 예측된 결과를 평가 데이터 파일에 새로운 열로 추가합니다."
   ]
  },
  {
   "cell_type": "code",
   "execution_count": null,
   "metadata": {
    "tags": []
   },
   "outputs": [],
   "source": [
    "# 예측 결과 병합\n",
    "data2['prd_charges'] = y_pred\n",
    "\n",
    "# 롹인\n",
    "data2.head()"
   ]
  },
  {
   "cell_type": "code",
   "execution_count": null,
   "metadata": {
    "tags": []
   },
   "outputs": [],
   "source": [
    "# 파일 저장\n",
    "data2.to_excel('insurance_predicted.xlsx', index=False)"
   ]
  }
 ],
 "metadata": {
  "colab": {
   "provenance": []
  },
  "kernelspec": {
   "display_name": "Python 3 (ipykernel)",
   "language": "python",
   "name": "python3"
  },
  "language_info": {
   "codemirror_mode": {
    "name": "ipython",
    "version": 3
   },
   "file_extension": ".py",
   "mimetype": "text/x-python",
   "name": "python",
   "nbconvert_exporter": "python",
   "pygments_lexer": "ipython3",
   "version": "3.11.5"
  }
 },
 "nbformat": 4,
 "nbformat_minor": 4
}
